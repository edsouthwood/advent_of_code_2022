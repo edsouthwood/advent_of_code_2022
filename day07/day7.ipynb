{
 "cells": [
  {
   "cell_type": "code",
   "execution_count": 1,
   "id": "67044e99",
   "metadata": {},
   "outputs": [],
   "source": [
    "in_file = \"toy.txt\"\n",
    "with open(in_file) as f:\n",
    "    lines = f.readlines()\n",
    "data = [l.strip('\\n') for l in lines]"
   ]
  },
  {
   "cell_type": "code",
   "execution_count": 22,
   "id": "ddb12641",
   "metadata": {},
   "outputs": [],
   "source": [
    "tree = []\n",
    "curr_dir = []\n",
    "for d in data:\n",
    "    #print(d)\n",
    "    #print(\"current dir:\",curr_dir)\n",
    "    d = d.split(' ')\n",
    "    if d[0] == \"$\":\n",
    "        #print(\"command\", d[1])\n",
    "        if d[1] == \"cd\":\n",
    "            if d[2] == \"..\":\n",
    "                curr_dir.pop()\n",
    "            else:\n",
    "                curr_dir.append(d[2])\n",
    "        #elif d[1] == 'ls':\n",
    "        #    pass\n",
    "    else:\n",
    "        #print(\"before tree\",curr_dir)\n",
    "        tree += [[list(curr_dir), d[0], d[1]]]\n",
    "        #make_in(curr_dir[-1],' '.join(d))"
   ]
  },
  {
   "cell_type": "code",
   "execution_count": 23,
   "id": "9f3a18f6",
   "metadata": {},
   "outputs": [
    {
     "data": {
      "text/plain": [
       "[[['/'], 'dir', 'a'],\n",
       " [['/'], '14848514', 'b.txt'],\n",
       " [['/'], '8504156', 'c.dat'],\n",
       " [['/'], 'dir', 'd'],\n",
       " [['/', 'a'], 'dir', 'e'],\n",
       " [['/', 'a'], '29116', 'f'],\n",
       " [['/', 'a'], '2557', 'g'],\n",
       " [['/', 'a'], '62596', 'h.lst'],\n",
       " [['/', 'a', 'e'], '584', 'i'],\n",
       " [['/', 'd'], '4060174', 'j'],\n",
       " [['/', 'd'], '8033020', 'd.log'],\n",
       " [['/', 'd'], '5626152', 'd.ext'],\n",
       " [['/', 'd'], '7214296', 'k']]"
      ]
     },
     "execution_count": 23,
     "metadata": {},
     "output_type": "execute_result"
    }
   ],
   "source": [
    "tree"
   ]
  },
  {
   "cell_type": "code",
   "execution_count": 148,
   "id": "11f0dcca",
   "metadata": {},
   "outputs": [],
   "source": [
    "max_depth = 0\n",
    "for x in tree:\n",
    "    if len(x[0]) > max_depth:\n",
    "        max_depth = len(x[0])"
   ]
  },
  {
   "cell_type": "code",
   "execution_count": 149,
   "id": "33ca5347",
   "metadata": {},
   "outputs": [
    {
     "data": {
      "text/plain": [
       "3"
      ]
     },
     "execution_count": 149,
     "metadata": {},
     "output_type": "execute_result"
    }
   ],
   "source": [
    "max_depth"
   ]
  },
  {
   "cell_type": "code",
   "execution_count": 93,
   "id": "de98a601",
   "metadata": {},
   "outputs": [],
   "source": [
    "ntree = []\n",
    "for t in tree:\n",
    "    #print(\"\".join(t[0]))\n",
    "    ntree += [[\"\".join(t[0]), t[1],t[2]]]"
   ]
  },
  {
   "cell_type": "code",
   "execution_count": 103,
   "id": "5eca98cd",
   "metadata": {},
   "outputs": [
    {
     "data": {
      "text/plain": [
       "[['/', 'dir', 'a'],\n",
       " ['/', '14848514', 'b.txt'],\n",
       " ['/', '8504156', 'c.dat'],\n",
       " ['/', 'dir', 'd'],\n",
       " ['/a', 'dir', 'e'],\n",
       " ['/a', '29116', 'f'],\n",
       " ['/a', '2557', 'g'],\n",
       " ['/a', '62596', 'h.lst'],\n",
       " ['/ae', '584', 'i'],\n",
       " ['/d', '4060174', 'j'],\n",
       " ['/d', '8033020', 'd.log'],\n",
       " ['/d', '5626152', 'd.ext'],\n",
       " ['/d', '7214296', 'k']]"
      ]
     },
     "execution_count": 103,
     "metadata": {},
     "output_type": "execute_result"
    }
   ],
   "source": [
    "ntree"
   ]
  },
  {
   "cell_type": "code",
   "execution_count": 88,
   "id": "efe32cba",
   "metadata": {},
   "outputs": [],
   "source": [
    "dtree = {}"
   ]
  },
  {
   "cell_type": "code",
   "execution_count": 101,
   "id": "fdd42067",
   "metadata": {},
   "outputs": [
    {
     "name": "stdout",
     "output_type": "stream",
     "text": [
      "?\n",
      "?\n",
      "?\n",
      "?\n"
     ]
    }
   ],
   "source": [
    "for x in ntree:\n",
    "    #print(x[0])\n",
    "    try:\n",
    "        if x[0] in dtree.keys():\n",
    "            dtree[str(x[0])] = dtree[str(x[0])] + (x[1],x[2])\n",
    "        else:\n",
    "            dtree[str(x[0])] = (x[1],x[2])\n",
    "    except:\n",
    "        print(\"?\")"
   ]
  },
  {
   "cell_type": "code",
   "execution_count": 188,
   "id": "055cd469",
   "metadata": {},
   "outputs": [],
   "source": [
    "dtree = {}\n",
    "for x in ntree:\n",
    "    # already seen the directory?\n",
    "    if x[0] in dtree.keys():\n",
    "        if x[1] == 'dir':   \n",
    "            dtree[str(x[0])]['folders'] = dtree[str(x[0])]['folders'] + [x[0]+x[2]]\n",
    "        else:\n",
    "            dtree[str(x[0])]['size'] = dtree[str(x[0])]['size'] + int(x[1])\n",
    "    # make new directory\n",
    "    else:\n",
    "        dtree[str(x[0])] = {}\n",
    "        if x[1] == 'dir':\n",
    "            dtree[str(x[0])]['folders'] = [x[0]+x[2]]\n",
    "            dtree[str(x[0])]['size'] = 0\n",
    "        else:\n",
    "            dtree[str(x[0])]['size'] = int(x[1])\n",
    "            dtree[str(x[0])]['folders'] = []\n",
    "    #print(dtree)\n"
   ]
  },
  {
   "cell_type": "code",
   "execution_count": 189,
   "id": "114992c7",
   "metadata": {},
   "outputs": [
    {
     "data": {
      "text/plain": [
       "{'/': {'folders': ['/a', '/d'], 'size': 23352670},\n",
       " '/a': {'folders': ['/ae'], 'size': 94269},\n",
       " '/ae': {'size': 584, 'folders': []},\n",
       " '/d': {'size': 24933642, 'folders': []}}"
      ]
     },
     "execution_count": 189,
     "metadata": {},
     "output_type": "execute_result"
    }
   ],
   "source": [
    "dtree"
   ]
  },
  {
   "cell_type": "code",
   "execution_count": 183,
   "id": "77096093",
   "metadata": {},
   "outputs": [
    {
     "data": {
      "text/plain": [
       "4"
      ]
     },
     "execution_count": 183,
     "metadata": {},
     "output_type": "execute_result"
    }
   ],
   "source": [
    "len(dtree)"
   ]
  },
  {
   "cell_type": "code",
   "execution_count": 190,
   "id": "19c4b145",
   "metadata": {},
   "outputs": [],
   "source": [
    "clean = 0\n",
    "while clean < len(dtree):\n",
    "    clean = 0\n",
    "    for x in dtree.keys():\n",
    "        if dtree[x]['folders'] == []:\n",
    "            clean += 1\n",
    "        else:\n",
    "            for ff in dtree[x]['folders']:\n",
    "                if dtree[ff]['folders'] == []:\n",
    "                    dtree[x]['size'] += dtree[ff]['size']\n",
    "                    dtree[x]['folders'].remove(ff)\n",
    "    "
   ]
  },
  {
   "cell_type": "code",
   "execution_count": 191,
   "id": "cb6f9da9",
   "metadata": {},
   "outputs": [
    {
     "data": {
      "text/plain": [
       "{'/': {'folders': [], 'size': 48381165},\n",
       " '/a': {'folders': [], 'size': 94853},\n",
       " '/ae': {'size': 584, 'folders': []},\n",
       " '/d': {'size': 24933642, 'folders': []}}"
      ]
     },
     "execution_count": 191,
     "metadata": {},
     "output_type": "execute_result"
    }
   ],
   "source": [
    "dtree"
   ]
  },
  {
   "cell_type": "code",
   "execution_count": 174,
   "id": "b0f004c9",
   "metadata": {},
   "outputs": [],
   "source": [
    "max_depth = 3\n",
    "while max_depth > -1:\n",
    "    for x in dtree.keys():\n",
    "        #print(x,len(x), max_depth)\n",
    "        if len(x) > max_depth:\n",
    "            #print(dtree[x]['folders'])\n",
    "            for one_deeper in dtree[x]['folders']:\n",
    "                #print(\"one deeper\", one_deeper)\n",
    "                #print(\"add \",dtree[one_deeper]['size'], \"to\",dtree[x]['size'])\n",
    "                dtree[x]['size'] = dtree[x]['size'] + dtree[one_deeper]['size']\n",
    "            dtree[x]['folders'] = []\n",
    "    max_depth -= 1"
   ]
  },
  {
   "cell_type": "code",
   "execution_count": 192,
   "id": "05eb076c",
   "metadata": {},
   "outputs": [
    {
     "data": {
      "text/plain": [
       "{'/': {'folders': [], 'size': 48381165},\n",
       " '/a': {'folders': [], 'size': 94853},\n",
       " '/ae': {'size': 584, 'folders': []},\n",
       " '/d': {'size': 24933642, 'folders': []}}"
      ]
     },
     "execution_count": 192,
     "metadata": {},
     "output_type": "execute_result"
    }
   ],
   "source": [
    "dtree"
   ]
  },
  {
   "cell_type": "code",
   "execution_count": 186,
   "id": "dd8afe11",
   "metadata": {},
   "outputs": [],
   "source": [
    "score = 0\n",
    "for x in dtree.keys():\n",
    "    if dtree[x]['size'] > 100000:\n",
    "        pass\n",
    "    else:\n",
    "        score += dtree[x]['size']"
   ]
  },
  {
   "cell_type": "code",
   "execution_count": 187,
   "id": "a9b3f657",
   "metadata": {},
   "outputs": [
    {
     "data": {
      "text/plain": [
       "95437"
      ]
     },
     "execution_count": 187,
     "metadata": {},
     "output_type": "execute_result"
    }
   ],
   "source": [
    "score"
   ]
  },
  {
   "cell_type": "code",
   "execution_count": 196,
   "id": "430dc2eb",
   "metadata": {},
   "outputs": [
    {
     "name": "stdout",
     "output_type": "stream",
     "text": [
      "['/', 48381165, '/a', 94853, '/ae', 584, '/d', 24933642]\n"
     ]
    }
   ],
   "source": [
    "pairs = []\n",
    "for x in dtree.keys():\n",
    "    pairs += tuple((x,dtree[x]['size']))\n",
    "print(pairs)"
   ]
  },
  {
   "cell_type": "code",
   "execution_count": 197,
   "id": "8874960e",
   "metadata": {},
   "outputs": [],
   "source": [
    "target = 30000000\n",
    "used_space = 70000000 - dtree['/']['size']"
   ]
  },
  {
   "cell_type": "code",
   "execution_count": 199,
   "id": "9103aa66",
   "metadata": {},
   "outputs": [
    {
     "name": "stdout",
     "output_type": "stream",
     "text": [
      "24933642\n"
     ]
    }
   ],
   "source": [
    "minimum = 70000000\n",
    "ans = 0\n",
    "for x in dtree.keys():\n",
    "    if (dtree[x]['size'] + used_space) >= target:\n",
    "        if dtree[x]['size'] < minimum:\n",
    "            minimum = dtree[x]['size']\n",
    "print(minimum)"
   ]
  },
  {
   "cell_type": "code",
   "execution_count": 26,
   "id": "a88eca1c",
   "metadata": {},
   "outputs": [],
   "source": [
    "class file:\n",
    "    def __init__(self, size, name):\n",
    "        self.type = \"file\"\n",
    "        self.name = name\n",
    "        self.size = int(size)\n",
    "    def __repr__(self):\n",
    "        return f'file: \"{self.name}\" size: \"{self.size}\"'\n",
    "\n",
    "class folder:\n",
    "    def __init__(self, name):\n",
    "        self.type = \"folder\"\n",
    "        self.name = name\n",
    "        self.contains = []\n",
    "        self.size = 0\n",
    "    \n",
    "    def add(self, item):\n",
    "        self.contains += [item]\n",
    "    \n",
    "    def updateSize(self):\n",
    "        self.size = 0\n",
    "        for x in self.contains:\n",
    "            self.size += int(x.size)\n",
    "    \n",
    "    def __repr__(self):\n",
    "        return f'folder: \"{self.name}\" size: \"{self.size}\"'"
   ]
  },
  {
   "cell_type": "code",
   "execution_count": 27,
   "id": "af582244",
   "metadata": {},
   "outputs": [],
   "source": [
    "def make_in(f, obj):\n",
    "    obj = obj.split(' ')\n",
    "    if obj[0] == 'dir':\n",
    "        f.add(folder(obj[1]))\n",
    "    else:\n",
    "        f.add(file(obj[0],obj[1]))"
   ]
  },
  {
   "cell_type": "code",
   "execution_count": 64,
   "id": "af1c736f",
   "metadata": {},
   "outputs": [],
   "source": [
    "root = folder(\"root\")"
   ]
  },
  {
   "cell_type": "code",
   "execution_count": 38,
   "id": "99f8c4c5",
   "metadata": {},
   "outputs": [
    {
     "name": "stdout",
     "output_type": "stream",
     "text": [
      "folder: /   type/size:  dir   name:  a\n",
      "folder: /   type/size:  14848514   name:  b.txt\n",
      "folder: /   type/size:  8504156   name:  c.dat\n",
      "folder: /   type/size:  dir   name:  d\n",
      "folder: /a   type/size:  dir   name:  e\n",
      "folder: /a   type/size:  29116   name:  f\n",
      "folder: /a   type/size:  2557   name:  g\n",
      "folder: /a   type/size:  62596   name:  h.lst\n",
      "folder: /ae   type/size:  584   name:  i\n",
      "folder: /d   type/size:  4060174   name:  j\n",
      "folder: /d   type/size:  8033020   name:  d.log\n",
      "folder: /d   type/size:  5626152   name:  d.ext\n",
      "folder: /d   type/size:  7214296   name:  k\n"
     ]
    }
   ],
   "source": [
    "for x in tree:\n",
    "    print(\"folder:\",\"\".join(x[0]),\"  type/size: \",x[1],\"  name: \",x[2])"
   ]
  },
  {
   "cell_type": "code",
   "execution_count": 69,
   "id": "6934633b",
   "metadata": {},
   "outputs": [
    {
     "name": "stdout",
     "output_type": "stream",
     "text": [
      "folder: \"a\" size: \"0\"\n"
     ]
    }
   ],
   "source": [
    "for x in root.contains:\n",
    "    if x.name == \"a\":\n",
    "        print(x)"
   ]
  },
  {
   "cell_type": "code",
   "execution_count": 49,
   "id": "a373581f",
   "metadata": {},
   "outputs": [
    {
     "data": {
      "text/plain": [
       "<__main__.folder at 0x7f0be93a7820>"
      ]
     },
     "execution_count": 49,
     "metadata": {},
     "output_type": "execute_result"
    }
   ],
   "source": [
    "folder(small[0].split(' ')[1])"
   ]
  },
  {
   "cell_type": "code",
   "execution_count": 67,
   "id": "9aec66d0",
   "metadata": {},
   "outputs": [],
   "source": [
    "root.updateSize()"
   ]
  },
  {
   "cell_type": "code",
   "execution_count": 68,
   "id": "c80e14a7",
   "metadata": {},
   "outputs": [
    {
     "data": {
      "text/plain": [
       "23352670"
      ]
     },
     "execution_count": 68,
     "metadata": {},
     "output_type": "execute_result"
    }
   ],
   "source": [
    "root.size"
   ]
  },
  {
   "cell_type": "code",
   "execution_count": 70,
   "id": "f2c0456f",
   "metadata": {},
   "outputs": [
    {
     "data": {
      "text/plain": [
       "['$ cd /',\n",
       " '$ ls',\n",
       " 'dir a',\n",
       " '14848514 b.txt',\n",
       " '8504156 c.dat',\n",
       " 'dir d',\n",
       " '$ cd a',\n",
       " '$ ls',\n",
       " 'dir e',\n",
       " '29116 f',\n",
       " '2557 g',\n",
       " '62596 h.lst',\n",
       " '$ cd e',\n",
       " '$ ls',\n",
       " '584 i',\n",
       " '$ cd ..',\n",
       " '$ cd ..',\n",
       " '$ cd d',\n",
       " '$ ls',\n",
       " '4060174 j',\n",
       " '8033020 d.log',\n",
       " '5626152 d.ext',\n",
       " '7214296 k']"
      ]
     },
     "execution_count": 70,
     "metadata": {},
     "output_type": "execute_result"
    }
   ],
   "source": [
    "data"
   ]
  },
  {
   "cell_type": "code",
   "execution_count": null,
   "id": "1ec9d841",
   "metadata": {},
   "outputs": [],
   "source": [
    "def readline(line, folder, command):\n",
    "    if line[0] == \"$\":\n",
    "        command = line.split(' ')[1]"
   ]
  }
 ],
 "metadata": {
  "kernelspec": {
   "display_name": "Python 3 (ipykernel)",
   "language": "python",
   "name": "python3"
  },
  "language_info": {
   "codemirror_mode": {
    "name": "ipython",
    "version": 3
   },
   "file_extension": ".py",
   "mimetype": "text/x-python",
   "name": "python",
   "nbconvert_exporter": "python",
   "pygments_lexer": "ipython3",
   "version": "3.8.5"
  }
 },
 "nbformat": 4,
 "nbformat_minor": 5
}
