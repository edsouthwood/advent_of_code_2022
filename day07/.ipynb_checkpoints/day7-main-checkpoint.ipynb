{
 "cells": [
  {
   "cell_type": "code",
   "execution_count": 8,
   "id": "15ee8655",
   "metadata": {
    "scrolled": true
   },
   "outputs": [
    {
     "name": "stdout",
     "output_type": "stream",
     "text": [
      "1423358\n"
     ]
    }
   ],
   "source": [
    "in_file = \"input.txt\"\n",
    "with open(in_file) as f:\n",
    "    lines = f.readlines()\n",
    "data = [l.strip('\\n') for l in lines]\n",
    "\n",
    "# it1\n",
    "\n",
    "tree = []\n",
    "curr_dir = []\n",
    "for d in data:\n",
    "    #print(d)\n",
    "    #print(\"current dir:\",curr_dir)\n",
    "    d = d.split(' ')\n",
    "    if d[0] == \"$\":\n",
    "        #print(\"command\", d[1])\n",
    "        if d[1] == \"cd\":\n",
    "            if d[2] == \"..\":\n",
    "                curr_dir.pop()\n",
    "            else:\n",
    "                curr_dir.append(d[2])\n",
    "        #elif d[1] == 'ls':\n",
    "        #    pass\n",
    "    else:\n",
    "        #print(\"before tree\",curr_dir)\n",
    "        tree += [[list(curr_dir), d[0], d[1]]]\n",
    "        #make_in(curr_dir[-1],' '.join(d))\n",
    "# it2\n",
    "\n",
    "#get max depth\n",
    "\n",
    "max_depth = 0\n",
    "for x in tree:\n",
    "    if len(x[0]) > max_depth:\n",
    "        max_depth = len(x[0])\n",
    "\n",
    "ntree = []\n",
    "for t in tree:\n",
    "    #print(\"\".join(t[0]))\n",
    "    ntree += [[\"\".join(t[0]), t[1],t[2]]]\n",
    "\n",
    "dtree = {}\n",
    "for x in ntree:\n",
    "    # already seen the directory?\n",
    "    if x[0] in dtree.keys():\n",
    "        if x[1] == 'dir':   \n",
    "            dtree[str(x[0])]['folders'] = dtree[str(x[0])]['folders'] + [x[0]+x[2]]\n",
    "        else:\n",
    "            dtree[str(x[0])]['size'] = dtree[str(x[0])]['size'] + int(x[1])\n",
    "    # make new directory\n",
    "    else:\n",
    "        dtree[str(x[0])] = {}\n",
    "        if x[1] == 'dir':\n",
    "            dtree[str(x[0])]['folders'] = [x[0]+x[2]]\n",
    "            dtree[str(x[0])]['size'] = 0\n",
    "        else:\n",
    "            dtree[str(x[0])]['size'] = int(x[1])\n",
    "            dtree[str(x[0])]['folders'] = []\n",
    "clean = 0\n",
    "while clean < len(dtree):\n",
    "    clean = 0\n",
    "    for x in dtree.keys():\n",
    "        if dtree[x]['folders'] == []:\n",
    "            clean += 1\n",
    "        else:\n",
    "            for ff in dtree[x]['folders']:\n",
    "                if dtree[ff]['folders'] == []:\n",
    "                    dtree[x]['size'] += dtree[ff]['size']\n",
    "                    dtree[x]['folders'].remove(ff)\n",
    "    \n",
    "\n",
    "\n",
    "score = 0\n",
    "for x in dtree.keys():\n",
    "    if dtree[x]['size'] > 100000:\n",
    "        pass\n",
    "    else:\n",
    "        score += dtree[x]['size']\n",
    "\n",
    "print(score)"
   ]
  },
  {
   "cell_type": "code",
   "execution_count": 9,
   "id": "97962b1a",
   "metadata": {},
   "outputs": [
    {
     "name": "stdout",
     "output_type": "stream",
     "text": [
      "545729\n"
     ]
    }
   ],
   "source": [
    "target = 30000000\n",
    "used_space = 70000000 - dtree['/']['size']\n",
    "minimum = 70000000\n",
    "ans = 0\n",
    "for x in dtree.keys():\n",
    "    if (dtree[x]['size'] + used_space) >= target:\n",
    "        if dtree[x]['size'] < minimum:\n",
    "            minimum = dtree[x]['size']\n",
    "print(minimum)"
   ]
  }
 ],
 "metadata": {
  "kernelspec": {
   "display_name": "Python 3 (ipykernel)",
   "language": "python",
   "name": "python3"
  },
  "language_info": {
   "codemirror_mode": {
    "name": "ipython",
    "version": 3
   },
   "file_extension": ".py",
   "mimetype": "text/x-python",
   "name": "python",
   "nbconvert_exporter": "python",
   "pygments_lexer": "ipython3",
   "version": "3.8.5"
  }
 },
 "nbformat": 4,
 "nbformat_minor": 5
}
