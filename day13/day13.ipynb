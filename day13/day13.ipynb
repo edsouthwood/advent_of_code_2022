{
 "cells": [
  {
   "cell_type": "code",
   "execution_count": 99,
   "metadata": {},
   "outputs": [],
   "source": [
    "in_file = \"toy.txt\"\n",
    "with open(in_file) as f:\n",
    "    lines = f.readlines()\n",
    "data = [l.strip('\\n') for l in lines]\n",
    "#print(data)"
   ]
  },
  {
   "cell_type": "code",
   "execution_count": 100,
   "metadata": {},
   "outputs": [],
   "source": [
    "# get packets into python as lists\n",
    "packets = []\n",
    "for x in data:\n",
    "    try:\n",
    "        packets += [eval(x)]\n",
    "    except:\n",
    "        pass"
   ]
  },
  {
   "cell_type": "code",
   "execution_count": 3,
   "metadata": {},
   "outputs": [],
   "source": [
    "def check(left,right):\n",
    "    correct_order = True\n",
    "    if type(left) == type([]) and type(right) == type([]):\n",
    "        for i, x in enumerate(right):\n",
    "            try:\n",
    "                if right[i] < left[i]:\n",
    "                    correct_order = False\n",
    "                    return correct_order\n",
    "            except IndexError:\n",
    "                return correct_order\n",
    "    elif type(left) == type(1) and type(right) == type(1):\n",
    "        return assert(left < right)\n",
    "    \n",
    "\n",
    "    return correct_order"
   ]
  },
  {
   "cell_type": "code",
   "execution_count": 134,
   "metadata": {},
   "outputs": [],
   "source": [
    "def compare(L,R):\n",
    "    #print(f'comparing {L} and {R}')\n",
    "    if type(L) == int and type(R) == int:\n",
    "        #print(f'{L}<={R} is {L<=R}')\n",
    "        return L <= R\n",
    "    elif type(L) == list and type(R) == int:\n",
    "        #print('list and number - going deeper')\n",
    "        #return compare(L[0],R)\n",
    "        return check(L,[R])\n",
    "    elif type(L) == int and type(R) == list:\n",
    "        #print('number and list - going deeper')\n",
    "        #return compare(L,R[0])\n",
    "        return check([L],R)\n",
    "    else:\n",
    "        #print('list in list - going deeper')\n",
    "        #return compare(L[0],R[0])\n",
    "        return check(L,R)"
   ]
  },
  {
   "cell_type": "code",
   "execution_count": 142,
   "metadata": {},
   "outputs": [],
   "source": [
    "def check(left, right):\n",
    "    #print(f'checking {left} and {right}')\n",
    "    result = True\n",
    "    try:\n",
    "        for i, x in enumerate(right):\n",
    "            #print(f'comparing {left[i]} and {right[i]}')\n",
    "            res = compare(left[i],right[i])\n",
    "            if res == True:\n",
    "                pass\n",
    "            else:\n",
    "                print('out of order')\n",
    "                return False\n",
    "    except IndexError:\n",
    "        if len(left) < len(right):\n",
    "            print('left shorter than right')\n",
    "            return True\n",
    "        else:\n",
    "            print('right shorter than left')\n",
    "            return False\n",
    "    #if len(right) < len(left):\n",
    "        #print(f'right is longer than left')\n",
    "    #    return True\n",
    "\n",
    "    # try the other way around to see if Right runs out of items\n",
    "    print('in the right order')\n",
    "    return result\n",
    "    "
   ]
  },
  {
   "cell_type": "code",
   "execution_count": 140,
   "metadata": {},
   "outputs": [],
   "source": []
  },
  {
   "cell_type": "code",
   "execution_count": 143,
   "metadata": {},
   "outputs": [
    {
     "name": "stdout",
     "output_type": "stream",
     "text": [
      "in the right order\n",
      "Pair  1 is  True\n",
      "in the right order\n",
      "in the right order\n",
      "in the right order\n",
      "in the right order\n",
      "Pair  2 is  True\n",
      "in the right order\n",
      "in the right order\n",
      "in the right order\n",
      "out of order\n",
      "out of order\n",
      "Pair  3 is  False\n",
      "out of order\n",
      "out of order\n",
      "in the right order\n",
      "left shorter than right\n",
      "Pair  4 is  True\n",
      "in the right order\n",
      "left shorter than right\n",
      "in the right order\n",
      "Pair  5 is  True\n",
      "in the right order\n",
      "left shorter than right\n",
      "Pair  6 is  True\n",
      "left shorter than right\n",
      "in the right order\n",
      "in the right order\n",
      "Pair  7 is  True\n",
      "in the right order\n",
      "in the right order\n",
      "out of order\n",
      "out of order\n",
      "out of order\n",
      "out of order\n",
      "out of order\n",
      "Pair  8 is  False\n",
      "out of order\n",
      "out of order\n",
      "out of order\n",
      "out of order\n",
      "out of order\n",
      "25\n"
     ]
    }
   ],
   "source": [
    "#pair the packets up\n",
    "total = 0\n",
    "index = 1\n",
    "for i in range(0,len(packets),2):\n",
    "    left = packets[i]\n",
    "    right = packets[i+1]\n",
    "    #print(left,right)\n",
    "    print('Pair ',index, 'is ',check(left,right))\n",
    "    if check(left,right):\n",
    "        total += index\n",
    "    index += 1\n",
    "print(total)"
   ]
  },
  {
   "cell_type": "code",
   "execution_count": 114,
   "metadata": {},
   "outputs": [
    {
     "name": "stdout",
     "output_type": "stream",
     "text": [
      "[9] [[8, 7, 6]]\n",
      "checking [9] and [[8, 7, 6]]\n",
      "comparing 9 and [8, 7, 6]\n",
      "comparing 9 and [8, 7, 6]\n",
      "number and list - going deeper\n",
      "checking [9] and [8, 7, 6]\n",
      "comparing 9 and 8\n",
      "comparing 9 and 8\n",
      "9<=8 is False\n"
     ]
    },
    {
     "data": {
      "text/plain": [
       "False"
      ]
     },
     "execution_count": 114,
     "metadata": {},
     "output_type": "execute_result"
    }
   ],
   "source": [
    "left, right = packets[4:6]\n",
    "print(left, right)\n",
    "check(left,right)"
   ]
  },
  {
   "cell_type": "code",
   "execution_count": null,
   "metadata": {},
   "outputs": [],
   "source": [
    "def check(left, right):\n",
    "    # check elements in list for lists\n",
    "    for elm in left:\n",
    "        if type(x) is list:\n",
    "            check(x)"
   ]
  },
  {
   "cell_type": "code",
   "execution_count": 66,
   "metadata": {},
   "outputs": [
    {
     "name": "stdout",
     "output_type": "stream",
     "text": [
      "0\n",
      "False\n",
      "[1]\n",
      "True\n"
     ]
    }
   ],
   "source": [
    "a = [0,[1]]\n",
    "for x in a:\n",
    "    print(x)\n",
    "    print(type(x) is list)"
   ]
  }
 ],
 "metadata": {
  "kernelspec": {
   "display_name": "base",
   "language": "python",
   "name": "python3"
  },
  "language_info": {
   "codemirror_mode": {
    "name": "ipython",
    "version": 3
   },
   "file_extension": ".py",
   "mimetype": "text/x-python",
   "name": "python",
   "nbconvert_exporter": "python",
   "pygments_lexer": "ipython3",
   "version": "3.8.15"
  },
  "orig_nbformat": 4,
  "vscode": {
   "interpreter": {
    "hash": "abea6a0ce74fe2ed5d76271aae31c635392e7ceb4fb21aaaaa57325876dc93f5"
   }
  }
 },
 "nbformat": 4,
 "nbformat_minor": 2
}
