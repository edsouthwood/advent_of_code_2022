{
 "cells": [
  {
   "cell_type": "code",
   "execution_count": 1,
   "id": "67044e99",
   "metadata": {},
   "outputs": [],
   "source": [
    "in_file = \"toy.txt\"\n",
    "with open(in_file) as f:\n",
    "    lines = f.readlines()\n",
    "data = [l.strip('\\n') for l in lines]"
   ]
  },
  {
   "cell_type": "code",
   "execution_count": 2,
   "id": "ddb12641",
   "metadata": {},
   "outputs": [
    {
     "data": {
      "text/plain": [
       "['vJrwpWtwJgWrhcsFMMfFFhFp',\n",
       " 'jqHRNqRjqzjGDLGLrsFMfFZSrLrFZsSL',\n",
       " 'PmmdzqPrVvPwwTWBwg',\n",
       " 'wMqvLMZHhHMvwLHjbvcjnnSBnvTQFn',\n",
       " 'ttgJtRGJQctTZtZT',\n",
       " 'CrZsJsPPZsGzwwsLwLmpwMDw']"
      ]
     },
     "execution_count": 2,
     "metadata": {},
     "output_type": "execute_result"
    }
   ],
   "source": [
    "data"
   ]
  },
  {
   "cell_type": "code",
   "execution_count": 12,
   "id": "04425b48",
   "metadata": {},
   "outputs": [
    {
     "data": {
      "text/plain": [
       "52"
      ]
     },
     "execution_count": 12,
     "metadata": {},
     "output_type": "execute_result"
    }
   ],
   "source": [
    "ord('Z')-38"
   ]
  },
  {
   "cell_type": "code",
   "execution_count": 14,
   "id": "5f72bb00",
   "metadata": {},
   "outputs": [
    {
     "data": {
      "text/plain": [
       "1"
      ]
     },
     "execution_count": 14,
     "metadata": {},
     "output_type": "execute_result"
    }
   ],
   "source": [
    "ord('a')-96"
   ]
  },
  {
   "cell_type": "code",
   "execution_count": 17,
   "id": "d2cd0a8c",
   "metadata": {},
   "outputs": [],
   "source": [
    "def scoreLetter(letter):\n",
    "    if letter.islower():\n",
    "        return(ord(letter)-96)\n",
    "    else:\n",
    "        return(ord(letter)-38)"
   ]
  },
  {
   "cell_type": "code",
   "execution_count": 18,
   "id": "7a77c62a",
   "metadata": {},
   "outputs": [
    {
     "data": {
      "text/plain": [
       "18"
      ]
     },
     "execution_count": 18,
     "metadata": {},
     "output_type": "execute_result"
    }
   ],
   "source": [
    "scoreLetter('r')"
   ]
  },
  {
   "cell_type": "code",
   "execution_count": 27,
   "id": "e72de795",
   "metadata": {},
   "outputs": [
    {
     "data": {
      "text/plain": [
       "{'J', 'W', 'g', 'p', 'r', 't', 'v', 'w'}"
      ]
     },
     "execution_count": 27,
     "metadata": {},
     "output_type": "execute_result"
    }
   ],
   "source": [
    "set(data[0][:12])"
   ]
  },
  {
   "cell_type": "code",
   "execution_count": 36,
   "id": "0ea6b986",
   "metadata": {},
   "outputs": [
    {
     "name": "stdout",
     "output_type": "stream",
     "text": [
      "157\n"
     ]
    }
   ],
   "source": [
    "# toy example\n",
    "score = 0\n",
    "for d in data:\n",
    "    # the double // does integer division \n",
    "    # that way you can split a list with it\n",
    "    length = len(d)//2\n",
    "    first_half = set(d[:length])\n",
    "    second_half = set(d[length:])\n",
    "    # need to pop out the contents of a set to use it.\n",
    "    score += scoreLetter(first_half.intersection(second_half).pop())\n",
    "print(score)"
   ]
  },
  {
   "cell_type": "code",
   "execution_count": 37,
   "id": "f64d2847",
   "metadata": {},
   "outputs": [
    {
     "name": "stdout",
     "output_type": "stream",
     "text": [
      "7691\n"
     ]
    }
   ],
   "source": [
    "in_file = \"input.txt\"\n",
    "with open(in_file) as f:\n",
    "    lines = f.readlines()\n",
    "data = [l.strip('\\n') for l in lines]\n",
    "# big example\n",
    "score = 0\n",
    "for d in data:\n",
    "    length = len(d)//2\n",
    "    first_half = set(d[:length])\n",
    "    second_half = set(d[length:])\n",
    "    score += scoreLetter(first_half.intersection(second_half).pop())\n",
    "print(score)"
   ]
  },
  {
   "cell_type": "code",
   "execution_count": 44,
   "id": "71facafd",
   "metadata": {},
   "outputs": [
    {
     "name": "stdout",
     "output_type": "stream",
     "text": [
      "70\n"
     ]
    }
   ],
   "source": [
    "#part 2\n",
    "# toy example\n",
    "in_file = \"toy.txt\"\n",
    "with open(in_file) as f:\n",
    "    lines = f.readlines()\n",
    "data = [l.strip('\\n') for l in lines]\n",
    "# split the data into groups of three\n",
    "groups = [data[x:x+3] for x in range(0,len(data),3)]\n",
    "score = 0\n",
    "for g in groups:\n",
    "    elf1 = set(g[0])\n",
    "    elf2 = set(g[1])\n",
    "    elf3 = set(g[2])\n",
    "    badge = (elf1.intersection(elf2)).intersection(elf3)\n",
    "    score += scoreLetter(badge.pop())\n",
    "print(score)"
   ]
  },
  {
   "cell_type": "code",
   "execution_count": 45,
   "id": "4990ce49",
   "metadata": {},
   "outputs": [
    {
     "name": "stdout",
     "output_type": "stream",
     "text": [
      "2508\n"
     ]
    }
   ],
   "source": [
    "#part 2\n",
    "# big example\n",
    "in_file = \"input.txt\"\n",
    "with open(in_file) as f:\n",
    "    lines = f.readlines()\n",
    "data = [l.strip('\\n') for l in lines]\n",
    "groups = [data[x:x+3] for x in range(0,len(data),3)]\n",
    "score = 0\n",
    "for g in groups:\n",
    "    elf1 = set(g[0])\n",
    "    elf2 = set(g[1])\n",
    "    elf3 = set(g[2])\n",
    "    badge = (elf1.intersection(elf2)).intersection(elf3)\n",
    "    score += scoreLetter(badge.pop())\n",
    "print(score)"
   ]
  }
 ],
 "metadata": {
  "kernelspec": {
   "display_name": "Python 3",
   "language": "python",
   "name": "python3"
  },
  "language_info": {
   "codemirror_mode": {
    "name": "ipython",
    "version": 3
   },
   "file_extension": ".py",
   "mimetype": "text/x-python",
   "name": "python",
   "nbconvert_exporter": "python",
   "pygments_lexer": "ipython3",
   "version": "3.9.5"
  }
 },
 "nbformat": 4,
 "nbformat_minor": 5
}
