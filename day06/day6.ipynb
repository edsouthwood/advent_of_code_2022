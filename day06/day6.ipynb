{
 "cells": [
  {
   "cell_type": "code",
   "execution_count": 1,
   "id": "67044e99",
   "metadata": {},
   "outputs": [],
   "source": [
    "in_file = \"toy.txt\"\n",
    "with open(in_file) as f:\n",
    "    lines = f.readlines()\n",
    "data = [l.strip('\\n') for l in lines]"
   ]
  },
  {
   "cell_type": "code",
   "execution_count": 2,
   "id": "ddb12641",
   "metadata": {},
   "outputs": [
    {
     "data": {
      "text/plain": [
       "['bvwbjplbgvbhsrlpgdmjqwftvncz 5',\n",
       " 'nppdvjthqldpwncqszvftbrmjlhg 6',\n",
       " 'nznrnfrfntjfmvfwmzdfjlvtqnbhcprsg 10',\n",
       " 'zcfzfwzzqfrljwzlrfnpqdbhtmscgvjwn 11']"
      ]
     },
     "execution_count": 2,
     "metadata": {},
     "output_type": "execute_result"
    }
   ],
   "source": [
    "data"
   ]
  },
  {
   "cell_type": "code",
   "execution_count": 5,
   "id": "a88eca1c",
   "metadata": {},
   "outputs": [],
   "source": [
    "ex1 = data[0].split(' ')[0]"
   ]
  },
  {
   "cell_type": "code",
   "execution_count": 11,
   "id": "a558a009",
   "metadata": {},
   "outputs": [],
   "source": [
    "count = 4\n",
    "ans = 0\n",
    "for x in range(len(ex1)-3):\n",
    "    #print(ex1[x:x+4])\n",
    "    if len(set(ex1[x:x+4])) == 4:\n",
    "        ans = count\n",
    "        break\n",
    "    count += 1"
   ]
  },
  {
   "cell_type": "code",
   "execution_count": 13,
   "id": "2731a515",
   "metadata": {},
   "outputs": [],
   "source": [
    "def findLength(message):\n",
    "    count = 4\n",
    "    for x in range(len(message)-3):\n",
    "        #print(ex1[x:x+4])\n",
    "        if len(set(message[x:x+4])) == 4:\n",
    "            return count\n",
    "        count += 1"
   ]
  },
  {
   "cell_type": "code",
   "execution_count": 16,
   "id": "0385abf2",
   "metadata": {},
   "outputs": [
    {
     "name": "stdout",
     "output_type": "stream",
     "text": [
      "passed\n",
      "passed\n",
      "passed\n",
      "passed\n"
     ]
    }
   ],
   "source": [
    "for d in data:\n",
    "    d = d.split(' ')\n",
    "    if findLength(d[0]) == int(d[1]):\n",
    "        print(\"passed\")"
   ]
  },
  {
   "cell_type": "code",
   "execution_count": 108,
   "id": "430f0855",
   "metadata": {},
   "outputs": [
    {
     "name": "stdout",
     "output_type": "stream",
     "text": [
      "CMZ\n"
     ]
    }
   ],
   "source": [
    "# part one Toy example\n",
    "in_file = \"toy2.txt\"\n",
    "with open(in_file) as f:\n",
    "    lines = f.readlines()\n",
    "data = [l.strip('\\n') for l in lines]\n",
    "\n",
    "stacks = buildStacks(data)\n",
    "instr = getInstructions(data)\n",
    "for x in instr:\n",
    "    stacks = carryOutInstructions(stacks,x[0],x[1],x[2])\n",
    "out = ''\n",
    "for x in stacks:\n",
    "    out += x[-1][1]\n",
    "print(out)"
   ]
  },
  {
   "cell_type": "code",
   "execution_count": 20,
   "id": "f64d2847",
   "metadata": {},
   "outputs": [
    {
     "name": "stdout",
     "output_type": "stream",
     "text": [
      "1343\n"
     ]
    }
   ],
   "source": [
    "in_file = \"input.txt\"\n",
    "with open(in_file) as f:\n",
    "    lines = f.readlines()\n",
    "data = [l.strip('\\n') for l in lines]\n",
    "print(findLength(data[0]))"
   ]
  },
  {
   "cell_type": "code",
   "execution_count": 22,
   "id": "e4801ba1",
   "metadata": {},
   "outputs": [
    {
     "name": "stdout",
     "output_type": "stream",
     "text": [
      "passed\n",
      "passed\n",
      "passed\n",
      "passed\n"
     ]
    }
   ],
   "source": [
    "#part 2\n",
    "# now check if lists contain any overlaps\n",
    "# return True as soon as one overlap is found\n",
    "def findLength(message):\n",
    "    count = 14\n",
    "    for x in range(len(message)-13):\n",
    "        #print(ex1[x:x+4])\n",
    "        if len(set(message[x:x+14])) == 14:\n",
    "            return count\n",
    "        count += 1\n",
    "\n",
    "in_file = \"toy2.txt\"\n",
    "with open(in_file) as f:\n",
    "    lines = f.readlines()\n",
    "data = [l.strip('\\n') for l in lines]\n",
    "\n",
    "for d in data:\n",
    "    d = d.split(' ')\n",
    "    if findLength(d[0]) == int(d[1]):\n",
    "        print(\"passed\")"
   ]
  },
  {
   "cell_type": "code",
   "execution_count": 23,
   "id": "805e366f",
   "metadata": {},
   "outputs": [
    {
     "name": "stdout",
     "output_type": "stream",
     "text": [
      "2193\n"
     ]
    }
   ],
   "source": [
    "# part 2 main event\n",
    "in_file = \"input.txt\"\n",
    "with open(in_file) as f:\n",
    "    lines = f.readlines()\n",
    "data = [l.strip('\\n') for l in lines]\n",
    "print(findLength(data[0]))"
   ]
  }
 ],
 "metadata": {
  "kernelspec": {
   "display_name": "Python 3",
   "language": "python",
   "name": "python3"
  },
  "language_info": {
   "codemirror_mode": {
    "name": "ipython",
    "version": 3
   },
   "file_extension": ".py",
   "mimetype": "text/x-python",
   "name": "python",
   "nbconvert_exporter": "python",
   "pygments_lexer": "ipython3",
   "version": "3.9.5"
  }
 },
 "nbformat": 4,
 "nbformat_minor": 5
}
