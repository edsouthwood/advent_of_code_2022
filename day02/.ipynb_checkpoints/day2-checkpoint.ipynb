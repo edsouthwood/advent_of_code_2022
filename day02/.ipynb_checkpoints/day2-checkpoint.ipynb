{
 "cells": [
  {
   "cell_type": "code",
   "execution_count": 1,
   "id": "67044e99",
   "metadata": {},
   "outputs": [],
   "source": [
    "in_file = \"toy.txt\"\n",
    "with open(in_file) as f:\n",
    "    lines = f.readlines()\n",
    "data = [l.strip('\\n') for l in lines]"
   ]
  },
  {
   "cell_type": "code",
   "execution_count": 2,
   "id": "ddb12641",
   "metadata": {},
   "outputs": [
    {
     "data": {
      "text/plain": [
       "['A Y', 'B X', 'C Z']"
      ]
     },
     "execution_count": 2,
     "metadata": {},
     "output_type": "execute_result"
    }
   ],
   "source": [
    "data"
   ]
  },
  {
   "cell_type": "code",
   "execution_count": 4,
   "id": "0ea6b986",
   "metadata": {},
   "outputs": [
    {
     "name": "stdout",
     "output_type": "stream",
     "text": [
      "15\n"
     ]
    }
   ],
   "source": [
    "# toy example\n",
    "guide = {'A X': 4,\n",
    "         'A Y': 8,\n",
    "         'A Z': 3,\n",
    "         'B X': 1,\n",
    "         'B Y': 5,\n",
    "         'B Z': 9,\n",
    "         'C X': 7,\n",
    "         'C Y': 2,\n",
    "         'C Z': 6\n",
    "        }\n",
    "score = 0\n",
    "for d in data:\n",
    "    score += guide[d]\n",
    "\n",
    "print(score)"
   ]
  },
  {
   "cell_type": "code",
   "execution_count": 5,
   "id": "f64d2847",
   "metadata": {},
   "outputs": [
    {
     "name": "stdout",
     "output_type": "stream",
     "text": [
      "11603\n"
     ]
    }
   ],
   "source": [
    "in_file = \"input.txt\"\n",
    "with open(in_file) as f:\n",
    "    lines = f.readlines()\n",
    "data = [l.strip('\\n') for l in lines]\n",
    "# big example\n",
    "guide = {'A X': 4,\n",
    "         'A Y': 8,\n",
    "         'A Z': 3,\n",
    "         'B X': 1,\n",
    "         'B Y': 5,\n",
    "         'B Z': 9,\n",
    "         'C X': 7,\n",
    "         'C Y': 2,\n",
    "         'C Z': 6\n",
    "        }\n",
    "score = 0\n",
    "for d in data:\n",
    "    score += guide[d]\n",
    "\n",
    "print(score)"
   ]
  },
  {
   "cell_type": "code",
   "execution_count": 7,
   "id": "71facafd",
   "metadata": {},
   "outputs": [
    {
     "name": "stdout",
     "output_type": "stream",
     "text": [
      "12\n"
     ]
    }
   ],
   "source": [
    "#part 2\n",
    "# toy example\n",
    "in_file = \"toy.txt\"\n",
    "with open(in_file) as f:\n",
    "    lines = f.readlines()\n",
    "data = [l.strip('\\n') for l in lines]\n",
    "guide = {'A X': 3,\n",
    "         'A Y': 4,\n",
    "         'A Z': 8,\n",
    "         'B X': 1,\n",
    "         'B Y': 5,\n",
    "         'B Z': 9,\n",
    "         'C X': 2,\n",
    "         'C Y': 6,\n",
    "         'C Z': 7\n",
    "        }\n",
    "score = 0\n",
    "for d in data:\n",
    "    score += guide[d]\n",
    "\n",
    "print(score)"
   ]
  },
  {
   "cell_type": "code",
   "execution_count": 8,
   "id": "4990ce49",
   "metadata": {},
   "outputs": [
    {
     "name": "stdout",
     "output_type": "stream",
     "text": [
      "12725\n"
     ]
    }
   ],
   "source": [
    "#part 2\n",
    "# big example\n",
    "in_file = \"input.txt\"\n",
    "with open(in_file) as f:\n",
    "    lines = f.readlines()\n",
    "data = [l.strip('\\n') for l in lines]\n",
    "guide = {'A X': 3,\n",
    "         'A Y': 4,\n",
    "         'A Z': 8,\n",
    "         'B X': 1,\n",
    "         'B Y': 5,\n",
    "         'B Z': 9,\n",
    "         'C X': 2,\n",
    "         'C Y': 6,\n",
    "         'C Z': 7\n",
    "        }\n",
    "score = 0\n",
    "for d in data:\n",
    "    score += guide[d]\n",
    "\n",
    "print(score)"
   ]
  }
 ],
 "metadata": {
  "kernelspec": {
   "display_name": "Python 3",
   "language": "python",
   "name": "python3"
  },
  "language_info": {
   "codemirror_mode": {
    "name": "ipython",
    "version": 3
   },
   "file_extension": ".py",
   "mimetype": "text/x-python",
   "name": "python",
   "nbconvert_exporter": "python",
   "pygments_lexer": "ipython3",
   "version": "3.9.5"
  }
 },
 "nbformat": 4,
 "nbformat_minor": 5
}
