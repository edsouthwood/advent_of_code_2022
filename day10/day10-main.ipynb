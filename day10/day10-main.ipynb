{
 "cells": [
  {
   "cell_type": "code",
   "execution_count": 3,
   "id": "0aac4727",
   "metadata": {},
   "outputs": [
    {
     "name": "stdout",
     "output_type": "stream",
     "text": [
      "20 21 = 420\n",
      "60 16 = 960\n",
      "100 21 = 2100\n",
      "140 16 = 2240\n",
      "180 16 = 2880\n",
      "220 21 = 4620\n",
      "37\n",
      "13220\n"
     ]
    }
   ],
   "source": [
    "in_file = \"input.txt\"\n",
    "with open(in_file) as f:\n",
    "    lines = f.readlines()\n",
    "data = [l.strip('\\n') for l in lines]\n",
    "\n",
    "def read(command):\n",
    "    try:\n",
    "        cmd, val = command.split(' ')\n",
    "        return cmd, int(val)\n",
    "    except:\n",
    "        return command, 0\n",
    "\n",
    "class Instruction:\n",
    "    def __init__(self, tick, val):\n",
    "        self.tick = int(tick)\n",
    "        self.val = int(val)\n",
    "\n",
    "def addx(tick, val):\n",
    "    return Instruction(tick+1, val)\n",
    "\n",
    "signal_strength = 0\n",
    "X = 1\n",
    "to_do = True\n",
    "tick = 1\n",
    "queue = []\n",
    "while to_do:\n",
    "    try:\n",
    "        cmd, val = read(data[tick -1])\n",
    "    except:\n",
    "        #print(\"no more instructions just work on queue\")\n",
    "        cmd, val = \"run_on\",0\n",
    "    try:\n",
    "        next_free = queue[-1].tick + 1\n",
    "    except:\n",
    "        #print(\"run once\")\n",
    "        next_free = tick\n",
    "    if cmd == 'addx':\n",
    "        queue.append(addx(next_free,val))\n",
    "    elif cmd == 'run_on':\n",
    "        pass\n",
    "    else:\n",
    "        queue.append(Instruction(next_free,0))\n",
    "    try:\n",
    "        #print(tick, queue[0].tick)\n",
    "        if queue[0].tick == tick:\n",
    "            x = queue.pop(0)\n",
    "            X += x.val\n",
    "        else:\n",
    "            pass\n",
    "    except:\n",
    "        to_do = False\n",
    "    tick += 1\n",
    "    if ((tick - 20) %  40 == 0) and tick < 230:\n",
    "        print(tick, X, \"=\", tick*X)\n",
    "        signal_strength += tick * X\n",
    "    #print(\"after \",tick,\"X=\",X)\n",
    "print(X)\n",
    "print(signal_strength)"
   ]
  },
  {
   "cell_type": "code",
   "execution_count": 4,
   "id": "cb79475a",
   "metadata": {},
   "outputs": [
    {
     "name": "stdout",
     "output_type": "stream",
     "text": [
      ".##..#..#..##..#..#.#..#.###..####.#..#.\n",
      "#..#.#..#.#..#.#.#..#..#.#..#.#....#.#..\n",
      "#..#.#..#.#..#.##...####.###..###..##...\n",
      "###..#..#.####.#.#..#..#.#..#.#....#.#..\n",
      "#.#..#..#.#..#.#.#..#..#.#..#.#....#.#..\n",
      "#..#..##..#..#.#..#.#..#.###..####.#..#.\n"
     ]
    }
   ],
   "source": [
    "#part 2\n",
    "disp= []\n",
    "for y in range(6):\n",
    "    disp += ['.'*40]\n",
    "signal_strength = 0\n",
    "X = 1\n",
    "to_do = True\n",
    "tick = 1\n",
    "queue = []\n",
    "new_line = 0\n",
    "while to_do:\n",
    "    try:\n",
    "        cmd, val = read(data[tick -1])\n",
    "    except:\n",
    "        cmd, val = \"run_on\",0\n",
    "    try:\n",
    "        next_free = queue[-1].tick + 1\n",
    "    except:\n",
    "        next_free = tick\n",
    "    if cmd == 'addx':\n",
    "        queue.append(addx(next_free,val))\n",
    "    elif cmd == 'run_on':\n",
    "        pass\n",
    "    else:\n",
    "        queue.append(Instruction(next_free,0))\n",
    "    try:\n",
    "        if queue[0].tick == tick:\n",
    "            x = queue.pop(0)\n",
    "            X += x.val\n",
    "        else:\n",
    "            pass\n",
    "    except:\n",
    "        to_do = False\n",
    "    if (tick) %  40 == 0:\n",
    "        new_line +=1\n",
    "    if abs(X - (tick%40))<2:\n",
    "        disp[new_line] = disp[new_line][:tick%40] + '#' + disp[new_line][tick%40+1:]\n",
    "    tick += 1\n",
    "for x in disp:\n",
    "    print(x)"
   ]
  }
 ],
 "metadata": {
  "kernelspec": {
   "display_name": "Python 3 (ipykernel)",
   "language": "python",
   "name": "python3"
  },
  "language_info": {
   "codemirror_mode": {
    "name": "ipython",
    "version": 3
   },
   "file_extension": ".py",
   "mimetype": "text/x-python",
   "name": "python",
   "nbconvert_exporter": "python",
   "pygments_lexer": "ipython3",
   "version": "3.8.5"
  }
 },
 "nbformat": 4,
 "nbformat_minor": 5
}
