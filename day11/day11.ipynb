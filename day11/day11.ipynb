{
 "cells": [
  {
   "cell_type": "code",
   "execution_count": 28,
   "id": "67044e99",
   "metadata": {},
   "outputs": [],
   "source": [
    "in_file = \"toy.txt\"\n",
    "with open(in_file) as f:\n",
    "    lines = f.readlines()\n",
    "data = [l.strip('\\n') for l in lines]"
   ]
  },
  {
   "cell_type": "code",
   "execution_count": 2,
   "id": "75029cc2",
   "metadata": {},
   "outputs": [
    {
     "data": {
      "text/plain": [
       "['Monkey 0:',\n",
       " '  Starting items: 79, 98',\n",
       " '  Operation: new = old * 19',\n",
       " '  Test: divisible by 23',\n",
       " '    If true: throw to monkey 2',\n",
       " '    If false: throw to monkey 3',\n",
       " '',\n",
       " 'Monkey 1:',\n",
       " '  Starting items: 54, 65, 75, 74',\n",
       " '  Operation: new = old + 6',\n",
       " '  Test: divisible by 19',\n",
       " '    If true: throw to monkey 2',\n",
       " '    If false: throw to monkey 0',\n",
       " '',\n",
       " 'Monkey 2:',\n",
       " '  Starting items: 79, 60, 97',\n",
       " '  Operation: new = old * old',\n",
       " '  Test: divisible by 13',\n",
       " '    If true: throw to monkey 1',\n",
       " '    If false: throw to monkey 3',\n",
       " '',\n",
       " 'Monkey 3:',\n",
       " '  Starting items: 74',\n",
       " '  Operation: new = old + 3',\n",
       " '  Test: divisible by 17',\n",
       " '    If true: throw to monkey 0',\n",
       " '    If false: throw to monkey 1',\n",
       " '']"
      ]
     },
     "execution_count": 2,
     "metadata": {},
     "output_type": "execute_result"
    }
   ],
   "source": [
    "data"
   ]
  },
  {
   "cell_type": "code",
   "execution_count": 29,
   "id": "693bd1d4",
   "metadata": {},
   "outputs": [],
   "source": [
    "class Monkey:\n",
    "    def __init__(self, items, opp, test, tr, fa):\n",
    "        items = [int(i.lstrip()) for i in items.split(',')]\n",
    "        self.items = items\n",
    "        self.opp = opp\n",
    "        self.test = int(test)\n",
    "        self.tr = int(tr)\n",
    "        self.fa = int(fa)\n",
    "        self.inspections = 0\n",
    "    \n",
    "    def __repr__(self) -> str:\n",
    "        return f'Monkey(\"{self.items}\",\"{self.opp}\",\"{self.test}\",\"{self.tr}\",\"{self.fa}\")'\n",
    "    \n",
    "    def addItem(self, new_item):\n",
    "        return self.items.append(new_item)\n",
    "    \n",
    "    def inspect(self):\n",
    "        self.inspections += len(self.items) \n",
    "        _, cmd, val = self.opp.split(' ')\n",
    "        if cmd == \"+\":\n",
    "            for i, v in enumerate(self.items):\n",
    "                v = v+int(val)\n",
    "                v = v // 3\n",
    "                self.items[i] = v\n",
    "        if cmd == \"*\":\n",
    "            if val == \"old\":\n",
    "                for i, v in enumerate(self.items):\n",
    "                    v = v*v\n",
    "                    v = v // 3\n",
    "                    self.items[i] = v\n",
    "            else:\n",
    "                for i, v in enumerate(self.items):\n",
    "                    v = v*int(val)\n",
    "                    v = v // 3\n",
    "                    self.items[i] = v\n",
    "    \n",
    "    def testItems(self):\n",
    "        vals = []\n",
    "        targets = []\n",
    "        for i, v in enumerate(self.items):\n",
    "            vals += [v] \n",
    "            if (v % self.test) == 0:\n",
    "                targets += [self.tr]\n",
    "            else:\n",
    "                targets += [self.fa]\n",
    "        self.items = []\n",
    "        return list(zip(targets,vals))\n"
   ]
  },
  {
   "cell_type": "code",
   "execution_count": 30,
   "id": "f0ed5d0f",
   "metadata": {},
   "outputs": [],
   "source": [
    "# parse data and build monkeys\n",
    "items = []\n",
    "monkeys = []\n",
    "index = 0\n",
    "for d in data:\n",
    "    if d == \"\":\n",
    "        index += 1\n",
    "        #print(\"next monkey\")\n",
    "        #print(tr)\n",
    "        #print(fa)\n",
    "        #print(items)\n",
    "        monkeys.append(Monkey(items,opp,test,tr,fa))\n",
    "        items = []\n",
    "    else:\n",
    "        d = d.lstrip()\n",
    "        if d[0] == \"M\":\n",
    "            pass\n",
    "            #print(d)\n",
    "        elif d[0] == \"S\":\n",
    "            \"\"\"items_to_sort = d.split(' ')\n",
    "            for i in items_to_sort:\n",
    "                try:\n",
    "                    i = int(i)\n",
    "                    items += [i]\n",
    "                except:\n",
    "                    pass\"\"\"\n",
    "            d = d.split(':')\n",
    "            d = d[1].lstrip()\n",
    "            items = d\n",
    "            #print(d, items)\n",
    "        elif d[0] == \"O\":\n",
    "            opp = d.split('=')\n",
    "            opp = opp[-1].lstrip()\n",
    "            #print(d, opp)\n",
    "        elif d[0] == \"T\":\n",
    "            test = d.split('by')\n",
    "            test = test[-1].lstrip()\n",
    "            #print(d, test)\n",
    "        elif d[0] == \"I\":\n",
    "            d = d.split(' ')\n",
    "            if d[1] == 'true:':\n",
    "                tr = d[-1]\n",
    "                #print(d[1], tr)\n",
    "            else:\n",
    "                fa = d[-1]\n",
    "                #print(d[1], fa)"
   ]
  },
  {
   "cell_type": "code",
   "execution_count": 31,
   "id": "f44e0f7d",
   "metadata": {},
   "outputs": [
    {
     "name": "stdout",
     "output_type": "stream",
     "text": [
      "101\n",
      "95\n",
      "7\n",
      "105\n",
      "10605\n"
     ]
    }
   ],
   "source": [
    "# one round of monkey business\n",
    "for _ in range(20):\n",
    "    for m in monkeys:\n",
    "        m.inspect()\n",
    "        thrown_items = m.testItems()\n",
    "        for i in thrown_items:\n",
    "            monkeys[i[0]].addItem(i[1])\n",
    "business = []\n",
    "for m in monkeys:\n",
    "    print(m.inspections)\n",
    "    business += [m.inspections]\n",
    "business.sort()\n",
    "print(business[-1]*business[-2])"
   ]
  },
  {
   "cell_type": "code",
   "execution_count": 107,
   "id": "7cfb1b40",
   "metadata": {},
   "outputs": [
    {
     "name": "stdout",
     "output_type": "stream",
     "text": [
      "[500, 620]\n",
      "[]\n",
      "[(3, 500), (3, 620)]\n"
     ]
    }
   ],
   "source": [
    "m = monkeys[0]\n",
    "print(m.items)\n",
    "out = m.testItems()\n",
    "print(m.items)\n",
    "print(out)"
   ]
  },
  {
   "cell_type": "code",
   "execution_count": 108,
   "id": "4cb52cc4",
   "metadata": {},
   "outputs": [],
   "source": [
    "for o in out:\n",
    "    monkeys[o[0]].addItem(o[1])"
   ]
  },
  {
   "cell_type": "code",
   "execution_count": 109,
   "id": "82227387",
   "metadata": {},
   "outputs": [
    {
     "data": {
      "text/plain": [
       "[74, 500, 620]"
      ]
     },
     "execution_count": 109,
     "metadata": {},
     "output_type": "execute_result"
    }
   ],
   "source": [
    "monkeys[3].items"
   ]
  },
  {
   "cell_type": "code",
   "execution_count": 106,
   "id": "e7ca7e0e",
   "metadata": {},
   "outputs": [
    {
     "name": "stdout",
     "output_type": "stream",
     "text": [
      "[79, 98]\n",
      "[500, 620]\n"
     ]
    }
   ],
   "source": [
    "m = monkeys[0]\n",
    "print(m.items)\n",
    "m.inspect()\n",
    "print(m.items)"
   ]
  },
  {
   "cell_type": "code",
   "execution_count": 77,
   "id": "fb539e3c",
   "metadata": {},
   "outputs": [
    {
     "name": "stdout",
     "output_type": "stream",
     "text": [
      "[79, 98]\n",
      "[158, 196]\n"
     ]
    }
   ],
   "source": [
    "m = monkeys[0]\n",
    "print(m.items)\n",
    "for i, v in enumerate(m.items):\n",
    "    v = v*2\n",
    "    m.items[i] = v\n",
    "print(m.items)"
   ]
  },
  {
   "cell_type": "code",
   "execution_count": 32,
   "id": "f04c3691",
   "metadata": {},
   "outputs": [],
   "source": [
    "mega_numeber = 1\n",
    "for m in monkeys:\n",
    "    mega_numeber *= m.test"
   ]
  },
  {
   "cell_type": "code",
   "execution_count": 33,
   "id": "5c8f40d4",
   "metadata": {},
   "outputs": [
    {
     "data": {
      "text/plain": [
       "96577"
      ]
     },
     "execution_count": 33,
     "metadata": {},
     "output_type": "execute_result"
    }
   ],
   "source": [
    "mega_numeber"
   ]
  },
  {
   "cell_type": "code",
   "execution_count": 38,
   "id": "bd21bb94",
   "metadata": {},
   "outputs": [
    {
     "name": "stdout",
     "output_type": "stream",
     "text": [
      "52166\n",
      "47830\n",
      "1938\n",
      "52013\n",
      "2713310158\n"
     ]
    }
   ],
   "source": [
    "#part 2\n",
    "in_file = \"toy.txt\"\n",
    "with open(in_file) as f:\n",
    "    lines = f.readlines()\n",
    "data = [l.strip('\\n') for l in lines]\n",
    "\n",
    "class Monkey:\n",
    "    def __init__(self, items, opp, test, tr, fa):\n",
    "        items = [int(i.lstrip()) for i in items.split(',')]\n",
    "        self.items = items\n",
    "        self.opp = opp\n",
    "        self.test = int(test)\n",
    "        self.tr = int(tr)\n",
    "        self.fa = int(fa)\n",
    "        self.inspections = 0\n",
    "    \n",
    "    def __repr__(self) -> str:\n",
    "        return f'Monkey(\"{self.items}\",\"{self.opp}\",\"{self.test}\",\"{self.tr}\",\"{self.fa}\")'\n",
    "    \n",
    "    def addItem(self, new_item):\n",
    "        return self.items.append(new_item)\n",
    "    \n",
    "    def inspect(self):\n",
    "        self.inspections += len(self.items) \n",
    "        _, cmd, val = self.opp.split(' ')\n",
    "        if cmd == \"+\":\n",
    "            for i, v in enumerate(self.items):\n",
    "                v = v+int(val)\n",
    "                v = v % 96577\n",
    "                self.items[i] = v\n",
    "        if cmd == \"*\":\n",
    "            if val == \"old\":\n",
    "                for i, v in enumerate(self.items):\n",
    "                    v = v*v\n",
    "                    v = v % 96577\n",
    "                    self.items[i] = v\n",
    "            else:\n",
    "                for i, v in enumerate(self.items):\n",
    "                    v = v*int(val)\n",
    "                    v = v % 96577\n",
    "                    self.items[i] = v\n",
    "    \n",
    "    def testItems(self):\n",
    "        vals = []\n",
    "        targets = []\n",
    "        for i, v in enumerate(self.items):\n",
    "            vals += [v] \n",
    "            if (v % self.test) == 0:\n",
    "                targets += [self.tr]\n",
    "            else:\n",
    "                targets += [self.fa]\n",
    "        self.items = []\n",
    "        return list(zip(targets,vals))\n",
    "\n",
    "# parse data and build monkeys\n",
    "items = []\n",
    "monkeys = []\n",
    "index = 0\n",
    "for d in data:\n",
    "    if d == \"\":\n",
    "        index += 1\n",
    "        #print(\"next monkey\")\n",
    "        #print(tr)\n",
    "        #print(fa)\n",
    "        #print(items)\n",
    "        monkeys.append(Monkey(items,opp,test,tr,fa))\n",
    "        items = []\n",
    "    else:\n",
    "        d = d.lstrip()\n",
    "        if d[0] == \"M\":\n",
    "            pass\n",
    "            #print(d)\n",
    "        elif d[0] == \"S\":\n",
    "            \"\"\"items_to_sort = d.split(' ')\n",
    "            for i in items_to_sort:\n",
    "                try:\n",
    "                    i = int(i)\n",
    "                    items += [i]\n",
    "                except:\n",
    "                    pass\"\"\"\n",
    "            d = d.split(':')\n",
    "            d = d[1].lstrip()\n",
    "            items = d\n",
    "            #print(d, items)\n",
    "        elif d[0] == \"O\":\n",
    "            opp = d.split('=')\n",
    "            opp = opp[-1].lstrip()\n",
    "            #print(d, opp)\n",
    "        elif d[0] == \"T\":\n",
    "            test = d.split('by')\n",
    "            test = test[-1].lstrip()\n",
    "            #print(d, test)\n",
    "        elif d[0] == \"I\":\n",
    "            d = d.split(' ')\n",
    "            if d[1] == 'true:':\n",
    "                tr = d[-1]\n",
    "                #print(d[1], tr)\n",
    "            else:\n",
    "                fa = d[-1]\n",
    "                #print(d[1], fa)\n",
    "\n",
    "\n",
    "# one round of monkey business\n",
    "for _ in range(10000):\n",
    "    for m in monkeys:\n",
    "        m.inspect()\n",
    "        thrown_items = m.testItems()\n",
    "        for i in thrown_items:\n",
    "            monkeys[i[0]].addItem(i[1])\n",
    "business = []\n",
    "for m in monkeys:\n",
    "    print(m.inspections)\n",
    "    business += [m.inspections]\n",
    "business.sort()\n",
    "print(business[-1]*business[-2])"
   ]
  },
  {
   "cell_type": "code",
   "execution_count": 15,
   "id": "c7487851",
   "metadata": {},
   "outputs": [
    {
     "data": {
      "text/plain": [
       "2"
      ]
     },
     "execution_count": 15,
     "metadata": {},
     "output_type": "execute_result"
    }
   ],
   "source": [
    "((4 % 3) * (5 % 3)) % 3"
   ]
  },
  {
   "cell_type": "code",
   "execution_count": 17,
   "id": "be0db083",
   "metadata": {},
   "outputs": [
    {
     "data": {
      "text/plain": [
       "2"
      ]
     },
     "execution_count": 17,
     "metadata": {},
     "output_type": "execute_result"
    }
   ],
   "source": [
    "(2 % 3) % 3"
   ]
  }
 ],
 "metadata": {
  "kernelspec": {
   "display_name": "base",
   "language": "python",
   "name": "python3"
  },
  "language_info": {
   "codemirror_mode": {
    "name": "ipython",
    "version": 3
   },
   "file_extension": ".py",
   "mimetype": "text/x-python",
   "name": "python",
   "nbconvert_exporter": "python",
   "pygments_lexer": "ipython3",
   "version": "3.8.5"
  },
  "vscode": {
   "interpreter": {
    "hash": "abea6a0ce74fe2ed5d76271aae31c635392e7ceb4fb21aaaaa57325876dc93f5"
   }
  }
 },
 "nbformat": 4,
 "nbformat_minor": 5
}
