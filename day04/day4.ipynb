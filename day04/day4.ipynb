{
 "cells": [
  {
   "cell_type": "code",
   "execution_count": 2,
   "id": "67044e99",
   "metadata": {},
   "outputs": [],
   "source": [
    "in_file = \"toy.txt\"\n",
    "with open(in_file) as f:\n",
    "    lines = f.readlines()\n",
    "data = [l.strip('\\n') for l in lines]"
   ]
  },
  {
   "cell_type": "code",
   "execution_count": 3,
   "id": "ddb12641",
   "metadata": {},
   "outputs": [
    {
     "data": {
      "text/plain": [
       "['2-4,6-8', '2-3,4-5', '5-7,7-9', '2-8,3-7', '6-6,4-6', '2-6,4-8']"
      ]
     },
     "execution_count": 3,
     "metadata": {},
     "output_type": "execute_result"
    }
   ],
   "source": [
    "data"
   ]
  },
  {
   "cell_type": "code",
   "execution_count": 5,
   "id": "04425b48",
   "metadata": {},
   "outputs": [
    {
     "data": {
      "text/plain": [
       "['2-4', '6-8']"
      ]
     },
     "execution_count": 5,
     "metadata": {},
     "output_type": "execute_result"
    }
   ],
   "source": [
    "data[0].split(',')"
   ]
  },
  {
   "cell_type": "code",
   "execution_count": 10,
   "id": "aa4886a1",
   "metadata": {},
   "outputs": [],
   "source": [
    "# create lists of numbers from the data\n",
    "def makeLists(d):\n",
    "    pair = d.split(',')\n",
    "    L1 = pair[0].split('-')\n",
    "    L2 = pair[1].split('-')\n",
    "    L1 = list(range(int(L1[0]),int(L1[1])+1))\n",
    "    L2 = list(range(int(L2[0]),int(L2[1])+1))\n",
    "    return L1,L2"
   ]
  },
  {
   "cell_type": "code",
   "execution_count": 12,
   "id": "fc0bce5f",
   "metadata": {},
   "outputs": [],
   "source": [
    "L1, L2 = makeLists(data[0])"
   ]
  },
  {
   "cell_type": "code",
   "execution_count": 14,
   "id": "417eb37c",
   "metadata": {},
   "outputs": [],
   "source": [
    "# check if each element of the smaller list is in the bigger list.\n",
    "# return False as soon as one is not in the larger list\n",
    "def checkLists(L1,L2):\n",
    "    if len(L1) <= len(L2):\n",
    "        for n in L1:\n",
    "            if n not in L2:\n",
    "                return False\n",
    "            else:\n",
    "                pass\n",
    "        return True\n",
    "    else:\n",
    "        for n in L2:\n",
    "            if n not in L1:\n",
    "                return False\n",
    "            else:\n",
    "                pass\n",
    "        return True"
   ]
  },
  {
   "cell_type": "code",
   "execution_count": 15,
   "id": "a3075d27",
   "metadata": {},
   "outputs": [
    {
     "data": {
      "text/plain": [
       "False"
      ]
     },
     "execution_count": 15,
     "metadata": {},
     "output_type": "execute_result"
    }
   ],
   "source": [
    "checkLists(L1,L2)"
   ]
  },
  {
   "cell_type": "code",
   "execution_count": 16,
   "id": "430f0855",
   "metadata": {},
   "outputs": [
    {
     "name": "stdout",
     "output_type": "stream",
     "text": [
      "2\n"
     ]
    }
   ],
   "source": [
    "# part one Toy example\n",
    "in_file = \"toy.txt\"\n",
    "with open(in_file) as f:\n",
    "    lines = f.readlines()\n",
    "data = [l.strip('\\n') for l in lines]\n",
    "\n",
    "number = 0\n",
    "for d in data:\n",
    "    L1, L2 = makeLists(d)\n",
    "    if checkLists(L1,L2):\n",
    "        number += 1\n",
    "print(number)"
   ]
  },
  {
   "cell_type": "code",
   "execution_count": 17,
   "id": "f64d2847",
   "metadata": {},
   "outputs": [
    {
     "name": "stdout",
     "output_type": "stream",
     "text": [
      "456\n"
     ]
    }
   ],
   "source": [
    "in_file = \"input.txt\"\n",
    "with open(in_file) as f:\n",
    "    lines = f.readlines()\n",
    "data = [l.strip('\\n') for l in lines]\n",
    "# big example\n",
    "number = 0\n",
    "for d in data:\n",
    "    L1, L2 = makeLists(d)\n",
    "    if checkLists(L1,L2):\n",
    "        number += 1\n",
    "print(number)"
   ]
  },
  {
   "cell_type": "code",
   "execution_count": 18,
   "id": "e4801ba1",
   "metadata": {},
   "outputs": [],
   "source": [
    "#part 2\n",
    "# now check if lists contain any overlaps\n",
    "# return True as soon as one overlap is found\n",
    "def checkLists2(L1,L2):\n",
    "    if len(L1) <= len(L2):\n",
    "        for n in L1:\n",
    "            if n in L2:\n",
    "                return True\n",
    "            else:\n",
    "                pass\n",
    "        return False\n",
    "    else:\n",
    "        for n in L2:\n",
    "            if n in L1:\n",
    "                return True\n",
    "            else:\n",
    "                pass\n",
    "        return False"
   ]
  },
  {
   "cell_type": "code",
   "execution_count": 19,
   "id": "71facafd",
   "metadata": {},
   "outputs": [
    {
     "name": "stdout",
     "output_type": "stream",
     "text": [
      "4\n"
     ]
    }
   ],
   "source": [
    "#part 2\n",
    "# toy example\n",
    "in_file = \"toy.txt\"\n",
    "with open(in_file) as f:\n",
    "    lines = f.readlines()\n",
    "data = [l.strip('\\n') for l in lines]\n",
    "# split the data into groups of three\n",
    "number = 0\n",
    "for d in data:\n",
    "    L1, L2 = makeLists(d)\n",
    "    if checkLists2(L1,L2):\n",
    "        number += 1\n",
    "print(number)"
   ]
  },
  {
   "cell_type": "code",
   "execution_count": 20,
   "id": "4990ce49",
   "metadata": {},
   "outputs": [
    {
     "name": "stdout",
     "output_type": "stream",
     "text": [
      "808\n"
     ]
    }
   ],
   "source": [
    "#part 2\n",
    "# big example\n",
    "in_file = \"input.txt\"\n",
    "with open(in_file) as f:\n",
    "    lines = f.readlines()\n",
    "data = [l.strip('\\n') for l in lines]\n",
    "number = 0\n",
    "for d in data:\n",
    "    L1, L2 = makeLists(d)\n",
    "    if checkLists2(L1,L2):\n",
    "        number += 1\n",
    "print(number)"
   ]
  }
 ],
 "metadata": {
  "kernelspec": {
   "display_name": "Python 3",
   "language": "python",
   "name": "python3"
  },
  "language_info": {
   "codemirror_mode": {
    "name": "ipython",
    "version": 3
   },
   "file_extension": ".py",
   "mimetype": "text/x-python",
   "name": "python",
   "nbconvert_exporter": "python",
   "pygments_lexer": "ipython3",
   "version": "3.9.5"
  }
 },
 "nbformat": 4,
 "nbformat_minor": 5
}
