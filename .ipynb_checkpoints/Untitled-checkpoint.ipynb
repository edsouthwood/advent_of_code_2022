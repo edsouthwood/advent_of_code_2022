{
 "cells": [
  {
   "cell_type": "code",
   "execution_count": 5,
   "id": "59206101",
   "metadata": {},
   "outputs": [],
   "source": [
    "from datetime import date"
   ]
  },
  {
   "cell_type": "code",
   "execution_count": 14,
   "id": "aad7b245",
   "metadata": {},
   "outputs": [],
   "source": [
    "today = date.today()\n",
    "# dd\n",
    "d1 = today.strftime(\"%d\")\n",
    "d1= d1.strip('0')"
   ]
  },
  {
   "cell_type": "code",
   "execution_count": 18,
   "id": "1bb8229a",
   "metadata": {},
   "outputs": [],
   "source": [
    "import requests\n",
    "url_prefix = \"https://adventofcode.com/2022/day/\"\n",
    "url_suffix = \"/input\"\n",
    "data = r = requests.get(url_prefix + d1 + url_suffix)"
   ]
  },
  {
   "cell_type": "code",
   "execution_count": 20,
   "id": "a06fe27e",
   "metadata": {},
   "outputs": [
    {
     "data": {
      "text/plain": [
       "'https://adventofcode.com/2022/day/4/input'"
      ]
     },
     "execution_count": 20,
     "metadata": {},
     "output_type": "execute_result"
    }
   ],
   "source": [
    "url_prefix + d1 + url_suffix\n"
   ]
  }
 ],
 "metadata": {
  "kernelspec": {
   "display_name": "Python 3",
   "language": "python",
   "name": "python3"
  },
  "language_info": {
   "codemirror_mode": {
    "name": "ipython",
    "version": 3
   },
   "file_extension": ".py",
   "mimetype": "text/x-python",
   "name": "python",
   "nbconvert_exporter": "python",
   "pygments_lexer": "ipython3",
   "version": "3.9.5"
  }
 },
 "nbformat": 4,
 "nbformat_minor": 5
}
