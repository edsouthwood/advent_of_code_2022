{
 "cells": [
  {
   "cell_type": "code",
   "execution_count": 1,
   "id": "67044e99",
   "metadata": {},
   "outputs": [],
   "source": [
    "in_file = \"toy.txt\"\n",
    "with open(in_file) as f:\n",
    "    lines = f.readlines()\n",
    "data = [l.strip('\\n') for l in lines]"
   ]
  },
  {
   "cell_type": "code",
   "execution_count": 3,
   "id": "75029cc2",
   "metadata": {},
   "outputs": [
    {
     "data": {
      "text/plain": [
       "['R 4', 'U 4', 'L 3', 'D 1', 'R 4', 'D 1', 'L 5', 'R 2']"
      ]
     },
     "execution_count": 3,
     "metadata": {},
     "output_type": "execute_result"
    }
   ],
   "source": [
    "data"
   ]
  },
  {
   "cell_type": "code",
   "execution_count": 63,
   "id": "693bd1d4",
   "metadata": {},
   "outputs": [],
   "source": [
    "class Knot:\n",
    "    def __init__(self):\n",
    "        self.x = 0\n",
    "        self.y = 0\n",
    "        self.visited = set()\n",
    "        self.visited.add((0,0))\n",
    "        \n",
    "    def move(self, command):\n",
    "        if command == 'R':\n",
    "            self.x += 1\n",
    "        elif command == 'L':\n",
    "            self.x -= 1\n",
    "        elif command == 'U':\n",
    "            self.y += 1\n",
    "        elif command == 'D':\n",
    "            self.y -= 1\n",
    "        elif command == 'UR':\n",
    "            self.x += 1\n",
    "            self.y += 1\n",
    "        elif command == 'UL':\n",
    "            self.x -= 1\n",
    "            self.y += 1\n",
    "        elif command == 'DL':\n",
    "            self.x -= 1\n",
    "            self.y -= 1\n",
    "        elif command == 'DR':\n",
    "            self.x += 1\n",
    "            self.y -= 1\n",
    "        else:\n",
    "            pass\n",
    "        self.visited.add((self.x,self.y))"
   ]
  },
  {
   "cell_type": "code",
   "execution_count": null,
   "id": "541bae54",
   "metadata": {},
   "outputs": [],
   "source": [
    "def check_position(h, t):\n",
    "    delta_x = h.x - t.x\n",
    "    delta_y = h.y - t.y\n",
    "    if abs(delta_x) <= 1 and abs(delta_y) <= 1:\n",
    "        return None\n",
    "    if delta_x > 1 and delta_y == 0:\n",
    "        return 'R'\n",
    "    if delta_x < 1 and delta_y == 0:\n",
    "        return 'L'\n",
    "    if delta_x == 0 and delta_y > 1:\n",
    "        return 'U'\n",
    "    if delta_x == 0 and delta_y < 1:\n",
    "        return 'D'\n",
    "    if delta_x >= 1 and delta_y >= 1:\n",
    "        return 'UR'\n",
    "    if delta_x <= 1 and delta_y >= 1:\n",
    "        return 'UL'\n",
    "    if delta_x >= 1 and delta_y <= 1:\n",
    "        return 'DR'\n",
    "    if delta_x <= 1 and delta_y <= 1:\n",
    "        return 'DL'"
   ]
  },
  {
   "cell_type": "code",
   "execution_count": 70,
   "id": "1efeb16b",
   "metadata": {},
   "outputs": [
    {
     "name": "stdout",
     "output_type": "stream",
     "text": [
      "Head 0 0\n",
      "Tail 0 0\n",
      "---\n",
      "Head 1 0\n",
      "None\n",
      "Tail 0 0\n",
      "---\n",
      "Head 2 0\n",
      "R\n",
      "Tail 1 0\n",
      "---\n",
      "Head 3 0\n",
      "R\n",
      "Tail 2 0\n",
      "---\n",
      "Head 4 0\n",
      "R\n",
      "Tail 3 0\n",
      "---\n",
      "Head 4 1\n",
      "None\n",
      "Tail 3 0\n",
      "---\n",
      "Head 4 2\n",
      "UR\n",
      "Tail 4 1\n",
      "---\n",
      "Head 4 3\n",
      "U\n",
      "Tail 4 2\n",
      "---\n",
      "Head 4 4\n",
      "U\n",
      "Tail 4 3\n",
      "---\n",
      "Head 3 4\n",
      "None\n",
      "Tail 4 3\n",
      "---\n",
      "Head 2 4\n",
      "UL\n",
      "Tail 3 4\n",
      "---\n",
      "Head 1 4\n",
      "L\n",
      "Tail 2 4\n",
      "---\n",
      "Head 1 3\n",
      "None\n",
      "Tail 2 4\n",
      "---\n",
      "Head 2 3\n",
      "None\n",
      "Tail 2 4\n",
      "---\n",
      "Head 3 3\n",
      "None\n",
      "Tail 2 4\n",
      "---\n",
      "Head 4 3\n",
      "DR\n",
      "Tail 3 3\n",
      "---\n",
      "Head 5 3\n",
      "R\n",
      "Tail 4 3\n",
      "---\n",
      "Head 5 2\n",
      "None\n",
      "Tail 4 3\n",
      "---\n",
      "Head 4 2\n",
      "None\n",
      "Tail 4 3\n",
      "---\n",
      "Head 3 2\n",
      "None\n",
      "Tail 4 3\n",
      "---\n",
      "Head 2 2\n",
      "DL\n",
      "Tail 3 2\n",
      "---\n",
      "Head 1 2\n",
      "L\n",
      "Tail 2 2\n",
      "---\n",
      "Head 0 2\n",
      "L\n",
      "Tail 1 2\n",
      "---\n",
      "Head 1 2\n",
      "None\n",
      "Tail 1 2\n",
      "---\n",
      "Head 2 2\n",
      "None\n",
      "Tail 1 2\n",
      "---\n"
     ]
    }
   ],
   "source": [
    "H = Knot()\n",
    "T = Knot()\n",
    "print(\"Head\", H.x,H.y)\n",
    "print(\"Tail\",T.x,T.y)\n",
    "print(\"---\")\n",
    "for d in data:\n",
    "    command, distance = d.split(' ')\n",
    "    for d in range(int(distance)):\n",
    "        H.move(command)\n",
    "        print(\"Head\", H.x,H.y)\n",
    "        T_command = check_position(H,T)\n",
    "        print(T_command)\n",
    "        T.move(T_command)\n",
    "        print(\"Tail\",T.x,T.y)\n",
    "        print(\"---\")\n"
   ]
  },
  {
   "cell_type": "code",
   "execution_count": 71,
   "id": "ea0a66b8",
   "metadata": {},
   "outputs": [
    {
     "data": {
      "text/plain": [
       "13"
      ]
     },
     "execution_count": 71,
     "metadata": {},
     "output_type": "execute_result"
    }
   ],
   "source": [
    "len(T.visited)"
   ]
  },
  {
   "cell_type": "code",
   "execution_count": 80,
   "id": "bd96c910",
   "metadata": {},
   "outputs": [
    {
     "name": "stdout",
     "output_type": "stream",
     "text": [
      "{(0, 0)}\n"
     ]
    }
   ],
   "source": [
    "# part 2 \n",
    "\n",
    "# there must be a nicer way to do this\n",
    "\n",
    "H = Knot()\n",
    "M1 = Knot()\n",
    "M2 = Knot()\n",
    "M3 = Knot()\n",
    "M4 = Knot()\n",
    "M5 = Knot()\n",
    "M6 = Knot()\n",
    "M7 = Knot()\n",
    "M8 = Knot()\n",
    "T = Knot()\n",
    "#print(\"Head\", H.x,H.y)\n",
    "#print(\"Tail\",T.x,T.y)\n",
    "#print(\"---\")\n",
    "for d in data:\n",
    "    command, distance = d.split(' ')\n",
    "    for d in range(int(distance)):\n",
    "        H.move(command)\n",
    "        M1_C = check_position(H,M1)\n",
    "        M1.move(M1_C)\n",
    "        \n",
    "        M2_C = check_position(M1,M2)\n",
    "        M2.move(M2_C)\n",
    "        \n",
    "        M3_C = check_position(M2,M3)\n",
    "        M3.move(M3_C)\n",
    "        \n",
    "        M4_C = check_position(M3,M4)\n",
    "        M4.move(M4_C)\n",
    "        \n",
    "        M5_C = check_position(M4,M5)\n",
    "        M5.move(M5_C)\n",
    "        \n",
    "        M6_C = check_position(M5,M6)\n",
    "        M6.move(M6_C)\n",
    "        \n",
    "        M7_C = check_position(M6,M7)\n",
    "        M7.move(M7_C)\n",
    "        \n",
    "        M8_C = check_position(M7,M8)\n",
    "        M8.move(M8_C)\n",
    "        \n",
    "        T_C = check_position(M8,T)\n",
    "        T.move(T_C)\n",
    "print(T.visited)"
   ]
  },
  {
   "cell_type": "code",
   "execution_count": 81,
   "id": "12ec50c7",
   "metadata": {},
   "outputs": [
    {
     "name": "stdout",
     "output_type": "stream",
     "text": [
      "{(3, -5), (-11, 5), (5, -5), (-6, -1), (10, 0), (2, 2), (-9, 2), (-8, 1), (1, 3), (6, -4), (-1, -5), (-2, -5), (-11, 4), (-10, 3), (4, 5), (9, -1), (0, -5), (8, 2), (-3, -4), (9, 1), (2, -5), (2, 4), (7, -3), (-4, -3), (6, 4), (7, 3), (4, -5), (-11, 6), (-5, -2), (3, 5), (5, 5), (8, -2), (0, 0), (1, -5), (1, 1), (-7, 0)}\n",
      "36\n"
     ]
    }
   ],
   "source": [
    "# second toy example\n",
    "in_file = \"toy2.txt\"\n",
    "with open(in_file) as f:\n",
    "    lines = f.readlines()\n",
    "data = [l.strip('\\n') for l in lines]\n",
    "\n",
    "H = Knot()\n",
    "M1 = Knot()\n",
    "M2 = Knot()\n",
    "M3 = Knot()\n",
    "M4 = Knot()\n",
    "M5 = Knot()\n",
    "M6 = Knot()\n",
    "M7 = Knot()\n",
    "M8 = Knot()\n",
    "T = Knot()\n",
    "#print(\"Head\", H.x,H.y)\n",
    "#print(\"Tail\",T.x,T.y)\n",
    "#print(\"---\")\n",
    "for d in data:\n",
    "    command, distance = d.split(' ')\n",
    "    for d in range(int(distance)):\n",
    "        H.move(command)\n",
    "        M1_C = check_position(H,M1)\n",
    "        M1.move(M1_C)\n",
    "        \n",
    "        M2_C = check_position(M1,M2)\n",
    "        M2.move(M2_C)\n",
    "        \n",
    "        M3_C = check_position(M2,M3)\n",
    "        M3.move(M3_C)\n",
    "        \n",
    "        M4_C = check_position(M3,M4)\n",
    "        M4.move(M4_C)\n",
    "        \n",
    "        M5_C = check_position(M4,M5)\n",
    "        M5.move(M5_C)\n",
    "        \n",
    "        M6_C = check_position(M5,M6)\n",
    "        M6.move(M6_C)\n",
    "        \n",
    "        M7_C = check_position(M6,M7)\n",
    "        M7.move(M7_C)\n",
    "        \n",
    "        M8_C = check_position(M7,M8)\n",
    "        M8.move(M8_C)\n",
    "        \n",
    "        T_C = check_position(M8,T)\n",
    "        T.move(T_C)\n",
    "print(T.visited)\n",
    "print(len(T.visited))"
   ]
  },
  {
   "cell_type": "code",
   "execution_count": 83,
   "id": "86285b74",
   "metadata": {},
   "outputs": [
    {
     "name": "stdout",
     "output_type": "stream",
     "text": [
      "10\n"
     ]
    }
   ],
   "source": [
    "knots = []\n",
    "for x in range(10):\n",
    "    knots.append(Knot())\n",
    "print(len(knots))"
   ]
  },
  {
   "cell_type": "code",
   "execution_count": 85,
   "id": "34920475",
   "metadata": {},
   "outputs": [],
   "source": [
    "for d in data:\n",
    "    command, distance = d.split(' ')\n",
    "    for d in range(int(distance)):\n",
    "        knots[0].move(command)\n",
    "        for x in range(1,10):\n",
    "            cmd = check_position(knots[x-1],knots[x])\n",
    "            knots[x].move(cmd)"
   ]
  },
  {
   "cell_type": "code",
   "execution_count": 86,
   "id": "08733a6f",
   "metadata": {},
   "outputs": [
    {
     "name": "stdout",
     "output_type": "stream",
     "text": [
      "36\n"
     ]
    }
   ],
   "source": [
    "print(len(knots[-1].visited))"
   ]
  }
 ],
 "metadata": {
  "kernelspec": {
   "display_name": "Python 3 (ipykernel)",
   "language": "python",
   "name": "python3"
  },
  "language_info": {
   "codemirror_mode": {
    "name": "ipython",
    "version": 3
   },
   "file_extension": ".py",
   "mimetype": "text/x-python",
   "name": "python",
   "nbconvert_exporter": "python",
   "pygments_lexer": "ipython3",
   "version": "3.8.5"
  }
 },
 "nbformat": 4,
 "nbformat_minor": 5
}
