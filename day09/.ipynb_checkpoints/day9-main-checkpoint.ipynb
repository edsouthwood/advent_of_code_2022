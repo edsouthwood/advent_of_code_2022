{
 "cells": [
  {
   "cell_type": "code",
   "execution_count": 2,
   "id": "0aac4727",
   "metadata": {},
   "outputs": [
    {
     "data": {
      "text/plain": [
       "6486"
      ]
     },
     "execution_count": 2,
     "metadata": {},
     "output_type": "execute_result"
    }
   ],
   "source": [
    "in_file = \"input.txt\"\n",
    "with open(in_file) as f:\n",
    "    lines = f.readlines()\n",
    "data = [l.strip('\\n') for l in lines]\n",
    "\n",
    "class Knot:\n",
    "    def __init__(self):\n",
    "        self.x = 0\n",
    "        self.y = 0\n",
    "        self.visited = set()\n",
    "        self.visited.add((0,0))\n",
    "    def move(self, command):\n",
    "        if command == 'R':\n",
    "            self.x += 1\n",
    "        elif command == 'L':\n",
    "            self.x -= 1\n",
    "        elif command == 'U':\n",
    "            self.y += 1\n",
    "        elif command == 'D':\n",
    "            self.y -= 1\n",
    "        elif command == 'UR':\n",
    "            self.x += 1\n",
    "            self.y += 1\n",
    "        elif command == 'UL':\n",
    "            self.x -= 1\n",
    "            self.y += 1\n",
    "        elif command == 'DL':\n",
    "            self.x -= 1\n",
    "            self.y -= 1\n",
    "        elif command == 'DR':\n",
    "            self.x += 1\n",
    "            self.y -= 1\n",
    "        else:\n",
    "            pass\n",
    "        self.visited.add((self.x,self.y))\n",
    "\n",
    "def check_position(h, t):\n",
    "    delta_x = h.x - t.x\n",
    "    delta_y = h.y - t.y\n",
    "    if abs(delta_x) <= 1 and abs(delta_y) <= 1:\n",
    "        return None\n",
    "    if delta_x > 1 and delta_y == 0:\n",
    "        return 'R'\n",
    "    if delta_x < 1 and delta_y == 0:\n",
    "        return 'L'\n",
    "    if delta_x == 0 and delta_y > 1:\n",
    "        return 'U'\n",
    "    if delta_x == 0 and delta_y < 1:\n",
    "        return 'D'\n",
    "    if delta_x >= 1 and delta_y >= 1:\n",
    "        return 'UR'\n",
    "    if delta_x <= 1 and delta_y >= 1:\n",
    "        return 'UL'\n",
    "    if delta_x >= 1 and delta_y <= 1:\n",
    "        return 'DR'\n",
    "    if delta_x <= 1 and delta_y <= 1:\n",
    "        return 'DL'\n",
    "\n",
    "H = Knot()\n",
    "T = Knot()\n",
    "for d in data:\n",
    "    command, distance = d.split(' ')\n",
    "    for d in range(int(distance)):\n",
    "        H.move(command)\n",
    "        T_command = check_position(H,T)\n",
    "        T.move(T_command)\n",
    "\n",
    "len(T.visited)"
   ]
  },
  {
   "cell_type": "code",
   "execution_count": 3,
   "id": "b54cd313",
   "metadata": {},
   "outputs": [
    {
     "name": "stdout",
     "output_type": "stream",
     "text": [
      "2678\n"
     ]
    }
   ],
   "source": [
    "#part2\n",
    "H = Knot()\n",
    "M1 = Knot()\n",
    "M2 = Knot()\n",
    "M3 = Knot()\n",
    "M4 = Knot()\n",
    "M5 = Knot()\n",
    "M6 = Knot()\n",
    "M7 = Knot()\n",
    "M8 = Knot()\n",
    "T = Knot()\n",
    "\n",
    "for d in data:\n",
    "    command, distance = d.split(' ')\n",
    "    for d in range(int(distance)):\n",
    "        H.move(command)\n",
    "        M1_C = check_position(H,M1)\n",
    "        M1.move(M1_C)\n",
    "        \n",
    "        M2_C = check_position(M1,M2)\n",
    "        M2.move(M2_C)\n",
    "        \n",
    "        M3_C = check_position(M2,M3)\n",
    "        M3.move(M3_C)\n",
    "        \n",
    "        M4_C = check_position(M3,M4)\n",
    "        M4.move(M4_C)\n",
    "        \n",
    "        M5_C = check_position(M4,M5)\n",
    "        M5.move(M5_C)\n",
    "        \n",
    "        M6_C = check_position(M5,M6)\n",
    "        M6.move(M6_C)\n",
    "        \n",
    "        M7_C = check_position(M6,M7)\n",
    "        M7.move(M7_C)\n",
    "        \n",
    "        M8_C = check_position(M7,M8)\n",
    "        M8.move(M8_C)\n",
    "        \n",
    "        T_C = check_position(M8,T)\n",
    "        T.move(T_C)\n",
    "print(len(T.visited))"
   ]
  },
  {
   "cell_type": "code",
   "execution_count": 4,
   "id": "067f29b2",
   "metadata": {},
   "outputs": [
    {
     "name": "stdout",
     "output_type": "stream",
     "text": [
      "2678\n"
     ]
    }
   ],
   "source": [
    "# nicer version\n",
    "knots = []\n",
    "for x in range(10):\n",
    "    knots.append(Knot())\n",
    "for d in data:\n",
    "    command, distance = d.split(' ')\n",
    "    for d in range(int(distance)):\n",
    "        knots[0].move(command)\n",
    "        for x in range(1,10):\n",
    "            cmd = check_position(knots[x-1],knots[x])\n",
    "            knots[x].move(cmd)\n",
    "print(len(knots[-1].visited))"
   ]
  }
 ],
 "metadata": {
  "kernelspec": {
   "display_name": "Python 3 (ipykernel)",
   "language": "python",
   "name": "python3"
  },
  "language_info": {
   "codemirror_mode": {
    "name": "ipython",
    "version": 3
   },
   "file_extension": ".py",
   "mimetype": "text/x-python",
   "name": "python",
   "nbconvert_exporter": "python",
   "pygments_lexer": "ipython3",
   "version": "3.8.5"
  }
 },
 "nbformat": 4,
 "nbformat_minor": 5
}
