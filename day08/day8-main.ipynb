{
 "cells": [
  {
   "cell_type": "code",
   "execution_count": 2,
   "id": "0aac4727",
   "metadata": {},
   "outputs": [
    {
     "name": "stdout",
     "output_type": "stream",
     "text": [
      "1763\n"
     ]
    }
   ],
   "source": [
    "in_file = \"input.txt\"\n",
    "with open(in_file) as f:\n",
    "    lines = f.readlines()\n",
    "data = [l.strip('\\n') for l in lines]\n",
    "\n",
    "# get size of tree patch\n",
    "height = len(data)\n",
    "width = len(data[0])\n",
    "\n",
    "# get lists of tree heights to the up, down, left or right of coordinate\n",
    "def up(data, x, y):\n",
    "    return [int(r[x]) for r in data[:y]]\n",
    "\n",
    "def down(data, x, y):\n",
    "    return [int(r[x]) for r in data[y+1:]]\n",
    "\n",
    "def left(data, x, y):\n",
    "    return [int(i) for i in [*data[y][:x]]]\n",
    "\n",
    "def right(data, x, y):\n",
    "    return [int(i) for i in [*data[y][x+1:]]]\n",
    "\n",
    "#check coord vs list\n",
    "def check(point, l):\n",
    "    point = int(point)\n",
    "    if point > max(l):\n",
    "        return True\n",
    "    else:\n",
    "        return False\n",
    "\n",
    "# calculate the number of trees on edge\n",
    "tall_trees = 2*(height) + 2*(width) - 4\n",
    "\n",
    "#only iterate over the middle numbers\n",
    "#add to tall trees if largest\n",
    "\n",
    "for y in range(1,width-1):\n",
    "    for x in range(1,width-1):\n",
    "        if check(data[y][x],left(data,x,y)):\n",
    "            tall_trees += 1\n",
    "        elif check(data[y][x],up(data,x,y)):\n",
    "            tall_trees += 1\n",
    "        elif check(data[y][x],right(data,x,y)):\n",
    "            tall_trees += 1\n",
    "        else:\n",
    "            if check(data[y][x],down(data,x,y)):\n",
    "                tall_trees += 1\n",
    "print(tall_trees)    "
   ]
  },
  {
   "cell_type": "code",
   "execution_count": 4,
   "id": "b54cd313",
   "metadata": {},
   "outputs": [
    {
     "name": "stdout",
     "output_type": "stream",
     "text": [
      "671160\n"
     ]
    }
   ],
   "source": [
    "#part2\n",
    "def check2(point, l):\n",
    "    point = int(point)\n",
    "    view_length = 0\n",
    "    for i in l:\n",
    "        if point <= i:\n",
    "            view_length += 1\n",
    "            break\n",
    "        else:\n",
    "            view_length += 1\n",
    "    return view_length\n",
    "max_view = 0\n",
    "for y in range(1,width-1):\n",
    "    for x in range(1,width-1):\n",
    "        v_u = check2(data[y][x],up(data,x,y)[::-1])\n",
    "        v_l = check2(data[y][x],left(data,x,y)[::-1])\n",
    "        v_d = check2(data[y][x],down(data,x,y))\n",
    "        v_r = check2(data[y][x],right(data,x,y))\n",
    "        m_v = v_l*v_u*v_r*v_d\n",
    "        if m_v > max_view:\n",
    "            max_view = m_v\n",
    "print(max_view)"
   ]
  }
 ],
 "metadata": {
  "kernelspec": {
   "display_name": "Python 3 (ipykernel)",
   "language": "python",
   "name": "python3"
  },
  "language_info": {
   "codemirror_mode": {
    "name": "ipython",
    "version": 3
   },
   "file_extension": ".py",
   "mimetype": "text/x-python",
   "name": "python",
   "nbconvert_exporter": "python",
   "pygments_lexer": "ipython3",
   "version": "3.8.5"
  }
 },
 "nbformat": 4,
 "nbformat_minor": 5
}
