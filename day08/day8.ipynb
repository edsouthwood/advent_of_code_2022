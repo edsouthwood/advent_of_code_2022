{
 "cells": [
  {
   "cell_type": "code",
   "execution_count": 2,
   "id": "67044e99",
   "metadata": {},
   "outputs": [],
   "source": [
    "in_file = \"toy.txt\"\n",
    "with open(in_file) as f:\n",
    "    lines = f.readlines()\n",
    "data = [l.strip('\\n') for l in lines]"
   ]
  },
  {
   "cell_type": "code",
   "execution_count": 3,
   "id": "75029cc2",
   "metadata": {},
   "outputs": [
    {
     "data": {
      "text/plain": [
       "['30373', '25512', '65332', '33549', '35390']"
      ]
     },
     "execution_count": 3,
     "metadata": {},
     "output_type": "execute_result"
    }
   ],
   "source": [
    "data"
   ]
  },
  {
   "cell_type": "code",
   "execution_count": 6,
   "id": "99eca8d2",
   "metadata": {},
   "outputs": [
    {
     "name": "stdout",
     "output_type": "stream",
     "text": [
      "5 5\n"
     ]
    }
   ],
   "source": [
    "height = len(data)\n",
    "width = len(data[0])\n",
    "print(height,width)"
   ]
  },
  {
   "cell_type": "code",
   "execution_count": 7,
   "id": "1efeb16b",
   "metadata": {},
   "outputs": [],
   "source": [
    "first_column = [r[0] for r in data]"
   ]
  },
  {
   "cell_type": "code",
   "execution_count": 14,
   "id": "bd96c910",
   "metadata": {},
   "outputs": [
    {
     "data": {
      "text/plain": [
       "'3'"
      ]
     },
     "execution_count": 14,
     "metadata": {},
     "output_type": "execute_result"
    }
   ],
   "source": [
    "data[2][2]"
   ]
  },
  {
   "cell_type": "code",
   "execution_count": 41,
   "id": "9adc80d1",
   "metadata": {},
   "outputs": [],
   "source": [
    "def up(data, x, y):\n",
    "    return [int(r[x]) for r in data[:y]]\n",
    "def down(data, x, y):\n",
    "    return [int(r[x]) for r in data[y+1:]]\n",
    "def left(data, x, y):\n",
    "    return [int(i) for i in [*data[y][:x]]]\n",
    "def right(data, x, y):\n",
    "    return [int(i) for i in [*data[y][x+1:]]]"
   ]
  },
  {
   "cell_type": "code",
   "execution_count": 42,
   "id": "4f467d37",
   "metadata": {},
   "outputs": [
    {
     "data": {
      "text/plain": [
       "[5, 1, 2]"
      ]
     },
     "execution_count": 42,
     "metadata": {},
     "output_type": "execute_result"
    }
   ],
   "source": [
    "right(data, 1, 1)"
   ]
  },
  {
   "cell_type": "code",
   "execution_count": 59,
   "id": "18673c56",
   "metadata": {},
   "outputs": [],
   "source": [
    "def check(point, l):\n",
    "    point = int(point)\n",
    "    if point > max(l):\n",
    "        return True\n",
    "    else:\n",
    "        return False"
   ]
  },
  {
   "cell_type": "code",
   "execution_count": 63,
   "id": "c2cf69f3",
   "metadata": {},
   "outputs": [
    {
     "name": "stdout",
     "output_type": "stream",
     "text": [
      "5\n",
      "True\n",
      "True\n",
      "False\n",
      "False\n",
      "5\n",
      "False\n",
      "True\n",
      "True\n",
      "False\n",
      "1\n",
      "False\n",
      "False\n",
      "False\n",
      "False\n",
      "5\n",
      "False\n",
      "False\n",
      "True\n",
      "False\n",
      "3\n",
      "False\n",
      "False\n",
      "False\n",
      "False\n",
      "3\n",
      "False\n",
      "False\n",
      "True\n",
      "False\n",
      "3\n",
      "False\n",
      "False\n",
      "False\n",
      "False\n",
      "5\n",
      "True\n",
      "False\n",
      "False\n",
      "True\n",
      "4\n",
      "False\n",
      "False\n",
      "False\n",
      "False\n"
     ]
    }
   ],
   "source": [
    "#only iterate over the middle numbers\n",
    "for y in range(1,width-1):\n",
    "    for x in range(1,width-1):\n",
    "        print(data[y][x])\n",
    "        print(check(data[y][x],left(data,x,y)))\n",
    "        print(check(data[y][x],up(data,x,y)))\n",
    "        print(check(data[y][x],right(data,x,y)))\n",
    "        print(check(data[y][x],down(data,x,y)))"
   ]
  },
  {
   "cell_type": "code",
   "execution_count": 71,
   "id": "bd07840c",
   "metadata": {},
   "outputs": [
    {
     "name": "stdout",
     "output_type": "stream",
     "text": [
      "21\n"
     ]
    }
   ],
   "source": [
    "#only iterate over the middle numbers\n",
    "tall_trees = 2*(height) + 2*(width) - 4\n",
    "for y in range(1,width-1):\n",
    "    for x in range(1,width-1):\n",
    "        #print(data[y][x])\n",
    "        if check(data[y][x],left(data,x,y)):\n",
    "            #print(check(data[y][x],up(data,x,y)))\n",
    "            #print(\"T\")\n",
    "            tall_trees += 1\n",
    "        elif check(data[y][x],up(data,x,y)):\n",
    "            tall_trees += 1\n",
    "            #print(check(data[y][x],up(data,x,y)))\n",
    "        elif check(data[y][x],right(data,x,y)):\n",
    "            tall_trees += 1\n",
    "            #print(check(data[y][x],right(data,x,y)))\n",
    "        else:\n",
    "            #check(data[y][x],down(data,x,y)):\n",
    "            if check(data[y][x],down(data,x,y)):\n",
    "                tall_trees += 1\n",
    "print(tall_trees)"
   ]
  },
  {
   "cell_type": "code",
   "execution_count": 94,
   "id": "4db29110",
   "metadata": {},
   "outputs": [],
   "source": [
    "def check2(point, l):\n",
    "    point = int(point)\n",
    "    view_length = 0\n",
    "    for i in l:\n",
    "        if point >= i:\n",
    "            view_length += 1\n",
    "        if i >= point:\n",
    "            break\n",
    "    if view_length == 0:\n",
    "        view_length = 1\n",
    "    return view_length"
   ]
  },
  {
   "cell_type": "code",
   "execution_count": 102,
   "id": "c64a3d5d",
   "metadata": {},
   "outputs": [],
   "source": [
    "def check2(point, l):\n",
    "    point = int(point)\n",
    "    view_length = 0\n",
    "    for i in l:\n",
    "        if point <= i:\n",
    "            view_length += 1\n",
    "            break\n",
    "        else:\n",
    "            view_length += 1\n",
    "    return view_length"
   ]
  },
  {
   "cell_type": "code",
   "execution_count": 103,
   "id": "7440c47d",
   "metadata": {},
   "outputs": [
    {
     "name": "stdout",
     "output_type": "stream",
     "text": [
      "5\n",
      "right [5, 1, 2]\n",
      "1 1 1 1\n",
      "5\n",
      "right [1, 2]\n",
      "1 1 2 2\n",
      "1\n",
      "right [2]\n",
      "1 1 1 1\n",
      "5\n",
      "right [3, 3, 2]\n",
      "1 1 2 3\n",
      "3\n",
      "right [3, 2]\n",
      "1 1 1 1\n",
      "3\n",
      "right [2]\n",
      "2 1 1 1\n",
      "3\n",
      "right [5, 4, 9]\n",
      "1 1 1 1\n",
      "5\n",
      "right [4, 9]\n",
      "2 2 1 2\n",
      "4\n",
      "right [9]\n",
      "3 1 1 1\n",
      "8\n"
     ]
    }
   ],
   "source": [
    "max_view = 0\n",
    "for y in range(1,width-1):\n",
    "    for x in range(1,width-1):\n",
    "        print(data[y][x])\n",
    "        v_u = check2(data[y][x],up(data,x,y)[::-1])\n",
    "        v_l = check2(data[y][x],left(data,x,y)[::-1])\n",
    "        v_d = check2(data[y][x],down(data,x,y))\n",
    "        v_r = check2(data[y][x],right(data,x,y))\n",
    "        print(\"right\", right(data,x,y))\n",
    "        print(v_u,v_l,v_d,v_r)\n",
    "        m_v = v_l*v_u*v_r*v_d\n",
    "        if m_v > max_view:\n",
    "            max_view = m_v\n",
    "print(max_view)"
   ]
  },
  {
   "cell_type": "code",
   "execution_count": 99,
   "id": "2ec0bacc",
   "metadata": {},
   "outputs": [
    {
     "name": "stdout",
     "output_type": "stream",
     "text": [
      "[1, 2, 3, 4]\n",
      "[4, 3, 2, 1]\n"
     ]
    }
   ],
   "source": [
    "x = [1,2,3,4]\n",
    "print(x)\n",
    "print(x[::-1])"
   ]
  },
  {
   "cell_type": "code",
   "execution_count": 96,
   "id": "f2b9f7c6",
   "metadata": {},
   "outputs": [
    {
     "name": "stdout",
     "output_type": "stream",
     "text": [
      "0\n",
      "1\n",
      "2\n",
      "3\n",
      "4\n"
     ]
    }
   ],
   "source": [
    "for x in range(10):\n",
    "    print(x)\n",
    "    if x == 4:\n",
    "        break"
   ]
  },
  {
   "cell_type": "code",
   "execution_count": 46,
   "id": "f9b97b28",
   "metadata": {},
   "outputs": [
    {
     "name": "stdout",
     "output_type": "stream",
     "text": [
      "Help on class range in module builtins:\n",
      "\n",
      "class range(object)\n",
      " |  range(stop) -> range object\n",
      " |  range(start, stop[, step]) -> range object\n",
      " |  \n",
      " |  Return an object that produces a sequence of integers from start (inclusive)\n",
      " |  to stop (exclusive) by step.  range(i, j) produces i, i+1, i+2, ..., j-1.\n",
      " |  start defaults to 0, and stop is omitted!  range(4) produces 0, 1, 2, 3.\n",
      " |  These are exactly the valid indices for a list of 4 elements.\n",
      " |  When step is given, it specifies the increment (or decrement).\n",
      " |  \n",
      " |  Methods defined here:\n",
      " |  \n",
      " |  __bool__(self, /)\n",
      " |      self != 0\n",
      " |  \n",
      " |  __contains__(self, key, /)\n",
      " |      Return key in self.\n",
      " |  \n",
      " |  __eq__(self, value, /)\n",
      " |      Return self==value.\n",
      " |  \n",
      " |  __ge__(self, value, /)\n",
      " |      Return self>=value.\n",
      " |  \n",
      " |  __getattribute__(self, name, /)\n",
      " |      Return getattr(self, name).\n",
      " |  \n",
      " |  __getitem__(self, key, /)\n",
      " |      Return self[key].\n",
      " |  \n",
      " |  __gt__(self, value, /)\n",
      " |      Return self>value.\n",
      " |  \n",
      " |  __hash__(self, /)\n",
      " |      Return hash(self).\n",
      " |  \n",
      " |  __iter__(self, /)\n",
      " |      Implement iter(self).\n",
      " |  \n",
      " |  __le__(self, value, /)\n",
      " |      Return self<=value.\n",
      " |  \n",
      " |  __len__(self, /)\n",
      " |      Return len(self).\n",
      " |  \n",
      " |  __lt__(self, value, /)\n",
      " |      Return self<value.\n",
      " |  \n",
      " |  __ne__(self, value, /)\n",
      " |      Return self!=value.\n",
      " |  \n",
      " |  __reduce__(...)\n",
      " |      Helper for pickle.\n",
      " |  \n",
      " |  __repr__(self, /)\n",
      " |      Return repr(self).\n",
      " |  \n",
      " |  __reversed__(...)\n",
      " |      Return a reverse iterator.\n",
      " |  \n",
      " |  count(...)\n",
      " |      rangeobject.count(value) -> integer -- return number of occurrences of value\n",
      " |  \n",
      " |  index(...)\n",
      " |      rangeobject.index(value) -> integer -- return index of value.\n",
      " |      Raise ValueError if the value is not present.\n",
      " |  \n",
      " |  ----------------------------------------------------------------------\n",
      " |  Static methods defined here:\n",
      " |  \n",
      " |  __new__(*args, **kwargs) from builtins.type\n",
      " |      Create and return a new object.  See help(type) for accurate signature.\n",
      " |  \n",
      " |  ----------------------------------------------------------------------\n",
      " |  Data descriptors defined here:\n",
      " |  \n",
      " |  start\n",
      " |  \n",
      " |  step\n",
      " |  \n",
      " |  stop\n",
      "\n"
     ]
    }
   ],
   "source": [
    "help(range)"
   ]
  }
 ],
 "metadata": {
  "kernelspec": {
   "display_name": "Python 3 (ipykernel)",
   "language": "python",
   "name": "python3"
  },
  "language_info": {
   "codemirror_mode": {
    "name": "ipython",
    "version": 3
   },
   "file_extension": ".py",
   "mimetype": "text/x-python",
   "name": "python",
   "nbconvert_exporter": "python",
   "pygments_lexer": "ipython3",
   "version": "3.8.5"
  }
 },
 "nbformat": 4,
 "nbformat_minor": 5
}
