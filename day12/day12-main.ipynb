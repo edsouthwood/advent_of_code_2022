{
 "cells": [
  {
   "cell_type": "code",
   "execution_count": 29,
   "id": "9ad7ca51",
   "metadata": {},
   "outputs": [],
   "source": [
    "in_file = \"Changedinput.txt\"\n",
    "with open(in_file) as f:\n",
    "    lines = f.readlines()\n",
    "data = [l.strip('\\n') for l in lines]"
   ]
  },
  {
   "cell_type": "code",
   "execution_count": 2,
   "id": "e71219a9",
   "metadata": {},
   "outputs": [
    {
     "data": {
      "text/plain": [
       "'abcccccccccccccccaaaaaaaaaaacccccccccccccccccccccccccccccccccccccaa'"
      ]
     },
     "execution_count": 2,
     "metadata": {},
     "output_type": "execute_result"
    }
   ],
   "source": [
    "data[1][:-3]"
   ]
  },
  {
   "cell_type": "code",
   "execution_count": 3,
   "id": "eaebee16",
   "metadata": {},
   "outputs": [],
   "source": [
    "data = [d[:-3] for d in data]"
   ]
  },
  {
   "cell_type": "code",
   "execution_count": 4,
   "id": "e3429095",
   "metadata": {},
   "outputs": [
    {
     "data": {
      "text/plain": [
       "'abcccccccccccccccaaaaaaaaaaacccccccccccccccccccccccccccccccccccccaa'"
      ]
     },
     "execution_count": 4,
     "metadata": {},
     "output_type": "execute_result"
    }
   ],
   "source": [
    "data[1]"
   ]
  },
  {
   "cell_type": "code",
   "execution_count": 37,
   "id": "0aac4727",
   "metadata": {},
   "outputs": [
    {
     "name": "stdout",
     "output_type": "stream",
     "text": [
      "345\n"
     ]
    }
   ],
   "source": [
    "# returns valid moves including stepdown\n",
    "\n",
    "from collections import deque\n",
    "\n",
    "def up(data, x, y):\n",
    "    if y-1 < 0:\n",
    "        return None\n",
    "    else:\n",
    "        if ord(data[y-1][x]) <= ord(data[y][x]) + 1:\n",
    "            return (x,y-1)\n",
    "        else:\n",
    "            return None\n",
    "def down(data, x, y):\n",
    "    try:\n",
    "        if ord(data[y+1][x]) <= ord(data[y][x]) + 1:\n",
    "            return (x,y+1)\n",
    "        else:\n",
    "            return None\n",
    "    except IndexError:\n",
    "        return None\n",
    "def left(data, x, y):\n",
    "    if x-1 < 0:\n",
    "        return None\n",
    "    else:\n",
    "        if ord(data[y][x-1]) <= ord(data[y][x]) + 1:\n",
    "            return (x-1,y)\n",
    "        else:\n",
    "            return None\n",
    "def right(data, x, y):\n",
    "    try:\n",
    "        if ord(data[y][x+1]) <= ord(data[y][x]) + 1:\n",
    "            return (x+1,y)\n",
    "        else:\n",
    "            return None\n",
    "    except IndexError:\n",
    "        return None\n",
    "\n",
    "def tryNeighbours(point, data):\n",
    "    possible_points = []\n",
    "    possible_points += [up(data, point[0], point[1])]\n",
    "    possible_points += [down(data, point[0], point[1])]\n",
    "    possible_points += [left(data, point[0], point[1])]\n",
    "    possible_points += [right(data, point[0], point[1])]\n",
    "    return [i for i in possible_points if i is not None]\n",
    "\n",
    "class distanceMap:\n",
    "    def __init__(self,data):\n",
    "        rows = len(data)\n",
    "        columns = len(data[0])\n",
    "        distanceMap = []\n",
    "        for r in data:\n",
    "            distanceMap += [[999]* columns]\n",
    "        self.distanceMap = distanceMap\n",
    "    \n",
    "    def setStart(self, point):\n",
    "        self.distanceMap[point[1]][point[0]] = 0\n",
    "    \n",
    "    def update(self, from_point, to_point):\n",
    "        #print(from_point,to_point)\n",
    "        from_point_val = self.distanceMap[from_point[1]][from_point[0]]\n",
    "        to_point_val = self.distanceMap[to_point[1]][to_point[0]]\n",
    "        #print(from_point_val,to_point_val)\n",
    "        if (from_point_val + 1) < to_point_val:\n",
    "            self.distanceMap[to_point[1]][to_point[0]] = from_point_val + 1\n",
    "\n",
    "mindist = 999\n",
    "for x in range(len(data)):\n",
    "    dmap = distanceMap(data)\n",
    "    start = (0,x)\n",
    "    dmap.setStart(start)\n",
    "    queue = deque()\n",
    "    queue.append(start)\n",
    "    done = set()\n",
    "    it = 0\n",
    "    while queue:\n",
    "        head = queue.popleft()\n",
    "        done.add(head)\n",
    "        #print('removing',head)\n",
    "        it += 1\n",
    "        #print(it, queue)\n",
    "        possible_points = tryNeighbours(head, data)\n",
    "        for p in possible_points:\n",
    "            dmap.update(head,p)\n",
    "            if p in done or p in set(queue):\n",
    "                pass\n",
    "            else:\n",
    "                #print('adding ',p)\n",
    "                queue.append(p)\n",
    "        #print(it, queue)\n",
    "        #print(dmap.distanceMap[20])\n",
    "        #if it == 10:\n",
    "        #   break\n",
    "\n",
    "    this_dist = dmap.distanceMap[20][46]\n",
    "    if this_dist < mindist:\n",
    "        mindist = this_dist\n",
    "\n",
    "print(mindist)"
   ]
  },
  {
   "cell_type": "code",
   "execution_count": 13,
   "id": "63681fb0",
   "metadata": {},
   "outputs": [
    {
     "data": {
      "text/plain": [
       "'a'"
      ]
     },
     "execution_count": 13,
     "metadata": {},
     "output_type": "execute_result"
    }
   ],
   "source": [
    "data[20][0]"
   ]
  },
  {
   "cell_type": "code",
   "execution_count": 35,
   "id": "36ed7cff",
   "metadata": {},
   "outputs": [
    {
     "data": {
      "text/plain": [
       "352"
      ]
     },
     "execution_count": 35,
     "metadata": {},
     "output_type": "execute_result"
    }
   ],
   "source": [
    "dmap.distanceMap[20][46]"
   ]
  },
  {
   "cell_type": "code",
   "execution_count": 6,
   "id": "9e685c17",
   "metadata": {},
   "outputs": [
    {
     "name": "stdout",
     "output_type": "stream",
     "text": [
      "S\n"
     ]
    }
   ],
   "source": [
    "in_file = \"input.txt\"\n",
    "with open(in_file) as f:\n",
    "    lines = f.readlines()\n",
    "data = [l.strip('\\n') for l in lines]\n",
    "print(data[20][0])"
   ]
  },
  {
   "cell_type": "code",
   "execution_count": 8,
   "id": "5667ac55",
   "metadata": {},
   "outputs": [
    {
     "data": {
      "text/plain": [
       "70"
      ]
     },
     "execution_count": 8,
     "metadata": {},
     "output_type": "execute_result"
    }
   ],
   "source": [
    "len(data[0])"
   ]
  }
 ],
 "metadata": {
  "kernelspec": {
   "display_name": "base",
   "language": "python",
   "name": "python3"
  },
  "language_info": {
   "codemirror_mode": {
    "name": "ipython",
    "version": 3
   },
   "file_extension": ".py",
   "mimetype": "text/x-python",
   "name": "python",
   "nbconvert_exporter": "python",
   "pygments_lexer": "ipython3",
   "version": "3.8.15"
  },
  "vscode": {
   "interpreter": {
    "hash": "abea6a0ce74fe2ed5d76271aae31c635392e7ceb4fb21aaaaa57325876dc93f5"
   }
  }
 },
 "nbformat": 4,
 "nbformat_minor": 5
}
