{
 "cells": [
  {
   "cell_type": "code",
   "execution_count": 1,
   "id": "67044e99",
   "metadata": {},
   "outputs": [],
   "source": [
    "in_file = \"toy.txt\"\n",
    "with open(in_file) as f:\n",
    "    lines = f.readlines()\n",
    "data = [l.strip('\\n') for l in lines]"
   ]
  },
  {
   "cell_type": "code",
   "execution_count": 2,
   "id": "75029cc2",
   "metadata": {},
   "outputs": [
    {
     "data": {
      "text/plain": [
       "['aabqponm', 'abcryxxl', 'accszExk', 'acctuvwj', 'abdefghi']"
      ]
     },
     "execution_count": 2,
     "metadata": {},
     "output_type": "execute_result"
    }
   ],
   "source": [
    "data"
   ]
  },
  {
   "cell_type": "code",
   "execution_count": 3,
   "id": "c1b11747",
   "metadata": {},
   "outputs": [],
   "source": [
    "class Journey:\n",
    "    def __init__(self, visited, x,y):\n",
    "        self.x = x\n",
    "        self.y = y\n",
    "        self.visited = set()\n",
    "        for p in visited:\n",
    "            self.visited.add(p)\n",
    "\n",
    "        \n",
    "    def move(self, point):\n",
    "        self.x = point[0]\n",
    "        self.y = point[1]\n",
    "        self.visited.add((self.x,self.y))\n",
    "        #self.route.append((self.x,self.y))"
   ]
  },
  {
   "attachments": {},
   "cell_type": "markdown",
   "id": "b133c9b3",
   "metadata": {},
   "source": [
    "a = OrderedSet()"
   ]
  },
  {
   "cell_type": "code",
   "execution_count": 6,
   "id": "f34b4b74",
   "metadata": {},
   "outputs": [
    {
     "ename": "NameError",
     "evalue": "name 'OrderedSet' is not defined",
     "output_type": "error",
     "traceback": [
      "\u001b[0;31m---------------------------------------------------------------------------\u001b[0m",
      "\u001b[0;31mNameError\u001b[0m                                 Traceback (most recent call last)",
      "Cell \u001b[0;32mIn[6], line 1\u001b[0m\n\u001b[0;32m----> 1\u001b[0m a \u001b[39m=\u001b[39m OrderedSet()\n",
      "\u001b[0;31mNameError\u001b[0m: name 'OrderedSet' is not defined"
     ]
    }
   ],
   "source": [
    "a = OrderedSet()"
   ]
  },
  {
   "cell_type": "code",
   "execution_count": 4,
   "id": "25c0a743",
   "metadata": {},
   "outputs": [],
   "source": [
    "# returns valid moves and bool = to hill climb True or False\n",
    "\n",
    "def up(data, x, y):\n",
    "    if y-1 < 0:\n",
    "        return None\n",
    "    if data[y][x] == 'z':\n",
    "        #print('z')\n",
    "        if (data[y-1][x] == 'E'):\n",
    "            return (-1,-1), True\n",
    "    else:\n",
    "        if ord(data[y][x]) == ord(data[y-1][x]):\n",
    "            return (x,y-1), False\n",
    "        elif ord(data[y][x]) + 1 == ord(data[y-1][x]):\n",
    "            return (x,y-1), True\n",
    "        else:\n",
    "            return None\n",
    "def down(data, x, y):\n",
    "    try:\n",
    "        if data[y][x] == 'z':\n",
    "            if data[y+1][x] == 'E':\n",
    "                return (-1,-1), True\n",
    "        if ord(data[y][x]) == ord(data[y+1][x]):\n",
    "            return (x,y+1),False\n",
    "        elif ord(data[y][x]) + 1 == ord(data[y+1][x]):\n",
    "            return (x,y+1), True\n",
    "        else:\n",
    "            return None\n",
    "    except IndexError:\n",
    "        return None\n",
    "def left(data, x, y):\n",
    "    if x-1 < 0:\n",
    "        return None\n",
    "    if data[y][x] == 'z':\n",
    "        if data[y][x-1] == 'E':\n",
    "            return (-1,-1), True\n",
    "    else:\n",
    "        if ord(data[y][x]) == ord(data[y][x-1]):\n",
    "            return (x-1,y),False\n",
    "        elif ord(data[y][x]) + 1 == ord(data[y][x-1]):\n",
    "            return (x-1,y), True\n",
    "        else:\n",
    "            return None\n",
    "def right(data, x, y):\n",
    "    try:\n",
    "        if data[y][x] == 'z':\n",
    "            if data[y][x+1] == 'E':\n",
    "                return (-1,-1), True\n",
    "        if ord(data[y][x]) == ord(data[y][x+1]):\n",
    "            return (x+1,y),False\n",
    "        elif ord(data[y][x]) + 1 == ord(data[y][x+1]):\n",
    "            return (x+1,y), True\n",
    "        else:\n",
    "            return None\n",
    "    except IndexError:\n",
    "        return None"
   ]
  },
  {
   "cell_type": "code",
   "execution_count": 5,
   "id": "9800e001",
   "metadata": {},
   "outputs": [],
   "source": [
    "def tryNeighbours(Journey, data):\n",
    "    possible_points = []\n",
    "    possible_points += [up(data, Journey.x, Journey.y)]\n",
    "    possible_points += [down(data, Journey.x, Journey.y)]\n",
    "    possible_points += [left(data, Journey.x, Journey.y)]\n",
    "    possible_points += [right(data, Journey.x, Journey.y)]\n",
    "    return [i for i in possible_points if i is not None]"
   ]
  },
  {
   "cell_type": "code",
   "execution_count": 6,
   "id": "cde58d15",
   "metadata": {},
   "outputs": [],
   "source": [
    "journeys = [Journey((0,0),0,0)]\n",
    "new_journeys = []\n",
    "for j in journeys:\n",
    "    p_points = [point for point in tryNeighbours(j, data) if point[0] not in j.visited]\n",
    "    for p in p_points:\n",
    "        new_j = Journey(j.visited,j.x,j.y)\n",
    "        new_j.move(p[0])\n",
    "        new_journeys.append(new_j)\n"
   ]
  },
  {
   "cell_type": "code",
   "execution_count": 7,
   "id": "d9b04af6",
   "metadata": {},
   "outputs": [],
   "source": [
    "done_ones = []\n",
    "journeying = True\n",
    "while journeys:\n",
    "    j = journeys.pop()\n",
    "    p_points = [point for point in tryNeighbours(j, data) if point[0] not in j.visited]\n",
    "    for p in p_points:\n",
    "        new_j = Journey(j.visited,j.x,j.y)\n",
    "        new_j.move(p[0])\n",
    "        if p[0] == (-1,-1):\n",
    "            done_ones.append(new_j)\n",
    "        else:\n",
    "            journeys.append(new_j)"
   ]
  },
  {
   "cell_type": "code",
   "execution_count": 8,
   "id": "dcdcf424",
   "metadata": {},
   "outputs": [
    {
     "name": "stdout",
     "output_type": "stream",
     "text": [
      "33\n",
      "31\n",
      "35\n",
      "33\n",
      "33\n",
      "33\n",
      "35\n",
      "37\n",
      "33\n",
      "31\n",
      "31\n",
      "31\n",
      "33\n",
      "31\n",
      "31\n",
      "31\n",
      "33\n",
      "35\n",
      "35\n",
      "33\n",
      "35\n",
      "33\n",
      "33\n",
      "33\n"
     ]
    }
   ],
   "source": [
    "\n",
    "for x in done_ones:\n",
    "    print(len(x.visited)-1)"
   ]
  },
  {
   "cell_type": "code",
   "execution_count": 154,
   "id": "e6ea8063",
   "metadata": {},
   "outputs": [
    {
     "name": "stdout",
     "output_type": "stream",
     "text": [
      "possible points: [((0, 1), False), ((1, 0), False)]\n",
      "chosen ((0, 1), False)\n",
      "possible points: [((0, 2), False), ((1, 1), True)]\n",
      "chosen ((1, 1), True)\n",
      "possible points: [((1, 2), True), ((2, 1), True)]\n",
      "chosen ((2, 1), True)\n",
      "possible points: [((2, 2), False)]\n",
      "chosen ((2, 2), False)\n",
      "possible points: [((2, 3), False), ((1, 2), False)]\n",
      "chosen ((1, 2), False)\n",
      "possible points: [((1, 3), False)]\n",
      "chosen ((1, 3), False)\n",
      "possible points: [((2, 3), False)]\n",
      "chosen ((2, 3), False)\n",
      "possible points: [((2, 4), True)]\n",
      "chosen ((2, 4), True)\n",
      "possible points: [((3, 4), True)]\n",
      "chosen ((3, 4), True)\n",
      "possible points: [((4, 4), True)]\n",
      "chosen ((4, 4), True)\n",
      "possible points: [((5, 4), True)]\n",
      "chosen ((5, 4), True)\n",
      "possible points: [((6, 4), True)]\n",
      "chosen ((6, 4), True)\n",
      "possible points: [((7, 4), True)]\n",
      "chosen ((7, 4), True)\n",
      "possible points: [((7, 3), True)]\n",
      "chosen ((7, 3), True)\n",
      "possible points: [((7, 2), True)]\n",
      "chosen ((7, 2), True)\n",
      "possible points: [((7, 1), True)]\n",
      "chosen ((7, 1), True)\n",
      "possible points: [((7, 0), True)]\n",
      "chosen ((7, 0), True)\n",
      "possible points: [((6, 0), True)]\n",
      "chosen ((6, 0), True)\n",
      "possible points: [((5, 0), True)]\n",
      "chosen ((5, 0), True)\n",
      "possible points: [((4, 0), True)]\n",
      "chosen ((4, 0), True)\n",
      "possible points: [((3, 0), True)]\n",
      "chosen ((3, 0), True)\n",
      "possible points: [((3, 1), True)]\n",
      "chosen ((3, 1), True)\n",
      "possible points: [((3, 2), True)]\n",
      "chosen ((3, 2), True)\n",
      "possible points: [((3, 3), True)]\n",
      "chosen ((3, 3), True)\n",
      "possible points: [((4, 3), True)]\n",
      "chosen ((4, 3), True)\n",
      "possible points: [((5, 3), True)]\n",
      "chosen ((5, 3), True)\n",
      "possible points: [((6, 3), True)]\n",
      "chosen ((6, 3), True)\n",
      "possible points: [((6, 2), True)]\n",
      "chosen ((6, 2), True)\n",
      "possible points: [((6, 1), False)]\n",
      "chosen ((6, 1), False)\n",
      "possible points: [((5, 1), False)]\n",
      "chosen ((5, 1), False)\n",
      "possible points: [((4, 1), True)]\n",
      "chosen ((4, 1), True)\n",
      "possible points: [((4, 2), True)]\n",
      "chosen ((4, 2), True)\n",
      "possible points: []\n"
     ]
    }
   ],
   "source": [
    "journeying = True\n",
    "trial = Journey(0,0)\n",
    "flat = 0\n",
    "while journeying:\n",
    "    p_points = [point for point in tryNeighbours(trial, data) if point[0] not in trial.visited]\n",
    "    print(\"possible points:\", p_points)\n",
    "    #no more valid points\n",
    "    if p_points == []:\n",
    "        journeying = False\n",
    "    else:\n",
    "        next_point = choice(p_points)\n",
    "        print(\"chosen\", next_point)\n",
    "        # hill climbing\n",
    "        if next_point[1]:\n",
    "            flat = 0\n",
    "            trial.move(next_point[0])\n",
    "            # stop at the top\n",
    "            if next_point[0] == (-1,-1):\n",
    "                journeying = False\n",
    "        else:\n",
    "            flat += 1\n",
    "            trial.move(next_point[0])\n",
    "        if flat > 5:\n",
    "            journeying = False\n",
    "\n",
    "    "
   ]
  },
  {
   "cell_type": "code",
   "execution_count": 151,
   "id": "c92d72c4",
   "metadata": {},
   "outputs": [],
   "source": [
    "def do_trial(data, start):\n",
    "    top = False\n",
    "    journeying = True\n",
    "    trial = Journey(start[0],start[1])\n",
    "    flat = 0\n",
    "    while journeying:\n",
    "        p_points = [point for point in tryNeighbours(trial, data) if point[0] not in trial.visited]\n",
    "        #print(\"possible points:\", p_points)\n",
    "        #no more valid points\n",
    "        if p_points == []:\n",
    "            journeying = False\n",
    "        else:\n",
    "            next_point = choice(p_points)\n",
    "            #print(\"chosen\", next_point)\n",
    "            # hill climbing\n",
    "            if next_point[1]:\n",
    "                flat = 0\n",
    "                trial.move(next_point[0])\n",
    "                # stop at the top\n",
    "                if next_point[0] == (-1,-1):\n",
    "                    journeying = False\n",
    "                    top = True\n",
    "            else:\n",
    "                flat += 1\n",
    "                trial.move(next_point[0])\n",
    "            if flat > 5:\n",
    "                journeying = False\n",
    "    return trial.route, top"
   ]
  },
  {
   "cell_type": "code",
   "execution_count": 182,
   "id": "c372ebaf",
   "metadata": {},
   "outputs": [
    {
     "name": "stdout",
     "output_type": "stream",
     "text": [
      "(2, 1)\n",
      "(2, 1)\n",
      "z\n",
      "(-1, -1)\n",
      "z\n",
      "(-1, -1)\n",
      "(2, 1)\n",
      "(2, 1)\n",
      "(2, 1)\n",
      "z\n",
      "(-1, -1)\n",
      "z\n",
      "(-1, -1)\n",
      "(1, 2)\n",
      "z\n",
      "(-1, -1)\n",
      "(2, 1)\n",
      "(1, 3)\n",
      "(2, 1)\n",
      "z\n",
      "(-1, -1)\n",
      "z\n",
      "(-1, -1)\n",
      "z\n",
      "(-1, -1)\n",
      "z\n",
      "(-1, -1)\n",
      "(2, 1)\n",
      "z\n",
      "(-1, -1)\n"
     ]
    }
   ],
   "source": [
    "successful_trials = []\n",
    "while len(successful_trials) < 10:\n",
    "    visits, top = do_trial(data, (0,0))\n",
    "    print(visits[-1])\n",
    "    if top:\n",
    "        successful_trials += [visits]"
   ]
  },
  {
   "cell_type": "code",
   "execution_count": 183,
   "id": "cd162295",
   "metadata": {},
   "outputs": [
    {
     "data": {
      "text/plain": [
       "10"
      ]
     },
     "execution_count": 183,
     "metadata": {},
     "output_type": "execute_result"
    }
   ],
   "source": [
    "len(successful_trials)"
   ]
  },
  {
   "cell_type": "code",
   "execution_count": 185,
   "id": "1cc37048",
   "metadata": {},
   "outputs": [
    {
     "name": "stdout",
     "output_type": "stream",
     "text": [
      "33\n",
      "31\n",
      "33\n",
      "33\n",
      "33\n",
      "31\n",
      "31\n",
      "35\n",
      "33\n",
      "31\n"
     ]
    }
   ],
   "source": [
    "for x in successful_trials:\n",
    "    print(len(x)-1)"
   ]
  },
  {
   "cell_type": "code",
   "execution_count": 173,
   "id": "9144c3c1",
   "metadata": {},
   "outputs": [
    {
     "data": {
      "text/plain": [
       "[(0, 0),\n",
       " (0, 1),\n",
       " (1, 1),\n",
       " (1, 2),\n",
       " (0, 2),\n",
       " (0, 3),\n",
       " (0, 4),\n",
       " (1, 4),\n",
       " (1, 3),\n",
       " (2, 3),\n",
       " (2, 4),\n",
       " (3, 4),\n",
       " (4, 4),\n",
       " (5, 4),\n",
       " (6, 4),\n",
       " (7, 4),\n",
       " (7, 3),\n",
       " (6, 3),\n",
       " (6, 2),\n",
       " (6, 1),\n",
       " (5, 1),\n",
       " (4, 1),\n",
       " (4, 2),\n",
       " (-1, -1)]"
      ]
     },
     "execution_count": 173,
     "metadata": {},
     "output_type": "execute_result"
    }
   ],
   "source": [
    "successful_trials[0]"
   ]
  },
  {
   "cell_type": "code",
   "execution_count": 29,
   "id": "405cc8fa",
   "metadata": {},
   "outputs": [
    {
     "data": {
      "text/plain": [
       "'S'"
      ]
     },
     "execution_count": 29,
     "metadata": {},
     "output_type": "execute_result"
    }
   ],
   "source": [
    "def up(data, x, y):\n",
    "    if y-1 < 0:\n",
    "        return None\n",
    "    else:\n",
    "        curr = ord(data[y][x])\n",
    "        neighbour = ord(data[y-1][x])\n",
    "        if curr == neighbour:        elif command == 'UR':\n",
    "            self.x += 1\n",
    "            self.y += 1\n",
    "        elif command == 'UL':\n",
    "            self.x -= 1\n",
    "            self.y += 1\n",
    "        elif command == 'DL':\n",
    "            self.x -= 1\n",
    "            self.y -= 1\n",
    "        elif command == 'DR':\n",
    "            self.x += 1\n",
    "            self.y -= 1\n",
    "            return point(x,y-1), False\n",
    "        elif curr +1 == neighbour:\n",
    "            return point(x,y-1), True\n",
    "        else:\n",
    "            return None\n",
    "def down(data, x, y):\n",
    "    try:\n",
    "        return data[y+1][x]\n",
    "    except IndexError:\n",
    "        return None\n",
    "def left(data, x, y):\n",
    "    if x-1 < 0:\n",
    "        return None\n",
    "    else:\n",
    "        return data[y][x-1]\n",
    "def right(data, x, y):\n",
    "    try:\n",
    "        return data[y][x+1]\n",
    "    except IndexError:\n",
    "        return None\n"
   ]
  },
  {
   "cell_type": "code",
   "execution_count": 31,
   "id": "10612447",
   "metadata": {},
   "outputs": [],
   "source": [
    "class point:\n",
    "    def __init__(self, x, y):\n",
    "        self.x = x\n",
    "        self.y = y"
   ]
  },
  {
   "cell_type": "code",
   "execution_count": 30,
   "id": "51cc04e5",
   "metadata": {},
   "outputs": [
    {
     "data": {
      "text/plain": [
       "83"
      ]
     },
     "execution_count": 30,
     "metadata": {},
     "output_type": "execute_result"
    }
   ],
   "source": [
    "ord('S')"
   ]
  },
  {
   "cell_type": "code",
   "execution_count": null,
   "id": "e451382d",
   "metadata": {},
   "outputs": [],
   "source": []
  },
  {
   "cell_type": "code",
   "execution_count": 29,
   "id": "693bd1d4",
   "metadata": {},
   "outputs": [],
   "source": [
    "class Monkey:\n",
    "    def __init__(self, items, opp, test, tr, fa):\n",
    "        items = [int(i.lstrip()) for i in items.split(',')]\n",
    "        self.items = items\n",
    "        self.opp = opp\n",
    "        self.test = int(test)\n",
    "        self.tr = int(tr)\n",
    "        self.fa = int(fa)\n",
    "        self.inspections = 0\n",
    "    \n",
    "    def __repr__(self) -> str:\n",
    "        return f'Monkey(\"{self.items}\",\"{self.opp}\",\"{self.test}\",\"{self.tr}\",\"{self.fa}\")'\n",
    "    \n",
    "    def addItem(self, new_item):\n",
    "        return self.items.append(new_item)\n",
    "    \n",
    "    def inspect(self):\n",
    "        self.inspections += len(self.items) \n",
    "        _, cmd, val = self.opp.split(' ')\n",
    "        if cmd == \"+\":\n",
    "            for i, v in enumerate(self.items):\n",
    "                v = v+int(val)\n",
    "                v = v // 3\n",
    "                self.items[i] = v\n",
    "        if cmd == \"*\":\n",
    "            if val == \"old\":\n",
    "                for i, v in enumerate(self.items):\n",
    "                    v = v*v\n",
    "                    v = v // 3\n",
    "                    self.items[i] = v\n",
    "            else:\n",
    "                for i, v in enumerate(self.items):\n",
    "                    v = v*int(val)\n",
    "                    v = v // 3\n",
    "                    self.items[i] = v\n",
    "    \n",
    "    def testItems(self):\n",
    "        vals = []\n",
    "        targets = []\n",
    "        for i, v in enumerate(self.items):\n",
    "            vals += [v] \n",
    "            if (v % self.test) == 0:\n",
    "                targets += [self.tr]\n",
    "            else:\n",
    "                targets += [self.fa]\n",
    "        self.items = []\n",
    "        return list(zip(targets,vals))\n"
   ]
  },
  {
   "cell_type": "code",
   "execution_count": 30,
   "id": "f0ed5d0f",
   "metadata": {},
   "outputs": [],
   "source": [
    "# parse data and build monkeys\n",
    "items = []\n",
    "monkeys = []\n",
    "index = 0\n",
    "for d in data:\n",
    "    if d == \"\":\n",
    "        index += 1\n",
    "        #print(\"next monkey\")\n",
    "        #print(tr)\n",
    "        #print(fa)\n",
    "        #print(items)\n",
    "        monkeys.append(Monkey(items,opp,test,tr,fa))\n",
    "        items = []\n",
    "    else:\n",
    "        d = d.lstrip()\n",
    "        if d[0] == \"M\":\n",
    "            pass\n",
    "            #print(d)\n",
    "        elif d[0] == \"S\":\n",
    "            \"\"\"items_to_sort = d.split(' ')\n",
    "            for i in items_to_sort:\n",
    "                try:\n",
    "                    i = int(i)\n",
    "                    items += [i]\n",
    "                except:\n",
    "                    pass\"\"\"\n",
    "            d = d.split(':')\n",
    "            d = d[1].lstrip()\n",
    "            items = d\n",
    "            #print(d, items)\n",
    "        elif d[0] == \"O\":\n",
    "            opp = d.split('=')\n",
    "            opp = opp[-1].lstrip()\n",
    "            #print(d, opp)\n",
    "        elif d[0] == \"T\":\n",
    "            test = d.split('by')\n",
    "            test = test[-1].lstrip()\n",
    "            #print(d, test)\n",
    "        elif d[0] == \"I\":\n",
    "            d = d.split(' ')\n",
    "            if d[1] == 'true:':\n",
    "                tr = d[-1]\n",
    "                #print(d[1], tr)\n",
    "            else:\n",
    "                fa = d[-1]\n",
    "                #print(d[1], fa)"
   ]
  },
  {
   "cell_type": "code",
   "execution_count": 31,
   "id": "f44e0f7d",
   "metadata": {},
   "outputs": [
    {
     "name": "stdout",
     "output_type": "stream",
     "text": [
      "101\n",
      "95\n",
      "7\n",
      "105\n",
      "10605\n"
     ]
    }
   ],
   "source": [
    "# one round of monkey business\n",
    "for _ in range(20):\n",
    "    for m in monkeys:\n",
    "        m.inspect()\n",
    "        thrown_items = m.testItems()\n",
    "        for i in thrown_items:\n",
    "            monkeys[i[0]].addItem(i[1])\n",
    "business = []\n",
    "for m in monkeys:\n",
    "    print(m.inspections)\n",
    "    business += [m.inspections]\n",
    "business.sort()\n",
    "print(business[-1]*business[-2])"
   ]
  },
  {
   "cell_type": "code",
   "execution_count": 107,
   "id": "7cfb1b40",
   "metadata": {},
   "outputs": [
    {
     "name": "stdout",
     "output_type": "stream",
     "text": [
      "[500, 620]\n",
      "[]\n",
      "[(3, 500), (3, 620)]\n"
     ]
    }
   ],
   "source": [
    "m = monkeys[0]\n",
    "print(m.items)\n",
    "out = m.testItems()\n",
    "print(m.items)\n",
    "print(out)"
   ]
  },
  {
   "cell_type": "code",
   "execution_count": 108,
   "id": "4cb52cc4",
   "metadata": {},
   "outputs": [],
   "source": [
    "for o in out:\n",
    "    monkeys[o[0]].addItem(o[1])"
   ]
  },
  {
   "cell_type": "code",
   "execution_count": 109,
   "id": "82227387",
   "metadata": {},
   "outputs": [
    {
     "data": {
      "text/plain": [
       "[74, 500, 620]"
      ]
     },
     "execution_count": 109,
     "metadata": {},
     "output_type": "execute_result"
    }
   ],
   "source": [
    "monkeys[3].items"
   ]
  },
  {
   "cell_type": "code",
   "execution_count": 106,
   "id": "e7ca7e0e",
   "metadata": {},
   "outputs": [
    {
     "name": "stdout",
     "output_type": "stream",
     "text": [
      "[79, 98]\n",
      "[500, 620]\n"
     ]
    }
   ],
   "source": [
    "m = monkeys[0]\n",
    "print(m.items)\n",
    "m.inspect()\n",
    "print(m.items)"
   ]
  },
  {
   "cell_type": "code",
   "execution_count": 77,
   "id": "fb539e3c",
   "metadata": {},
   "outputs": [
    {
     "name": "stdout",
     "output_type": "stream",
     "text": [
      "[79, 98]\n",
      "[158, 196]\n"
     ]
    }
   ],
   "source": [
    "m = monkeys[0]\n",
    "print(m.items)\n",
    "for i, v in enumerate(m.items):\n",
    "    v = v*2\n",
    "    m.items[i] = v\n",
    "print(m.items)"
   ]
  },
  {
   "cell_type": "code",
   "execution_count": 32,
   "id": "f04c3691",
   "metadata": {},
   "outputs": [],
   "source": [
    "mega_numeber = 1\n",
    "for m in monkeys:\n",
    "    mega_numeber *= m.test"
   ]
  },
  {
   "cell_type": "code",
   "execution_count": 33,
   "id": "5c8f40d4",
   "metadata": {},
   "outputs": [
    {
     "data": {
      "text/plain": [
       "96577"
      ]
     },
     "execution_count": 33,
     "metadata": {},
     "output_type": "execute_result"
    }
   ],
   "source": [
    "mega_numeber"
   ]
  },
  {
   "cell_type": "code",
   "execution_count": 38,
   "id": "bd21bb94",
   "metadata": {},
   "outputs": [
    {
     "name": "stdout",
     "output_type": "stream",
     "text": [
      "52166\n",
      "47830\n",
      "1938\n",
      "52013\n",
      "2713310158\n"
     ]
    }
   ],
   "source": [
    "#part 2\n",
    "in_file = \"toy.txt\"\n",
    "with open(in_file) as f:\n",
    "    lines = f.readlines()\n",
    "data = [l.strip('\\n') for l in lines]\n",
    "\n",
    "class Monkey:\n",
    "    def __init__(self, items, opp, test, tr, fa):\n",
    "        items = [int(i.lstrip()) for i in items.split(',')]\n",
    "        self.items = items\n",
    "        self.opp = opp\n",
    "        self.test = int(test)\n",
    "        self.tr = int(tr)\n",
    "        self.fa = int(fa)\n",
    "        self.inspections = 0\n",
    "    \n",
    "    def __repr__(self) -> str:\n",
    "        return f'Monkey(\"{self.items}\",\"{self.opp}\",\"{self.test}\",\"{self.tr}\",\"{self.fa}\")'\n",
    "    \n",
    "    def addItem(self, new_item):\n",
    "        return self.items.append(new_item)\n",
    "    \n",
    "    def inspect(self):\n",
    "        self.inspections += len(self.items) \n",
    "        _, cmd, val = self.opp.split(' ')\n",
    "        if cmd == \"+\":\n",
    "            for i, v in enumerate(self.items):\n",
    "                v = v+int(val)\n",
    "                v = v % 96577\n",
    "                self.items[i] = v\n",
    "        if cmd == \"*\":\n",
    "            if val == \"old\":\n",
    "                for i, v in enumerate(self.items):\n",
    "                    v = v*v\n",
    "                    v = v % 96577\n",
    "                    self.items[i] = v\n",
    "            else:\n",
    "                for i, v in enumerate(self.items):\n",
    "                    v = v*int(val)\n",
    "                    v = v % 96577\n",
    "                    self.items[i] = v\n",
    "    \n",
    "    def testItems(self):\n",
    "        vals = []\n",
    "        targets = []\n",
    "        for i, v in enumerate(self.items):\n",
    "            vals += [v] \n",
    "            if (v % self.test) == 0:\n",
    "                targets += [self.tr]\n",
    "            else:\n",
    "                targets += [self.fa]\n",
    "        self.items = []\n",
    "        return list(zip(targets,vals))\n",
    "\n",
    "# parse data and build monkeys\n",
    "items = []\n",
    "monkeys = []\n",
    "index = 0\n",
    "for d in data:\n",
    "    if d == \"\":\n",
    "        index += 1\n",
    "        #print(\"next monkey\")\n",
    "        #print(tr)\n",
    "        #print(fa)\n",
    "        #print(items)\n",
    "        monkeys.append(Monkey(items,opp,test,tr,fa))\n",
    "        items = []\n",
    "    else:\n",
    "        d = d.lstrip()\n",
    "        if d[0] == \"M\":\n",
    "            pass\n",
    "            #print(d)\n",
    "        elif d[0] == \"S\":\n",
    "            \"\"\"items_to_sort = d.split(' ')\n",
    "            for i in items_to_sort:\n",
    "                try:\n",
    "                    i = int(i)\n",
    "                    items += [i]\n",
    "                except:\n",
    "                    pass\"\"\"\n",
    "            d = d.split(':')\n",
    "            d = d[1].lstrip()\n",
    "            items = d\n",
    "            #print(d, items)\n",
    "        elif d[0] == \"O\":\n",
    "            opp = d.split('=')\n",
    "            opp = opp[-1].lstrip()\n",
    "            #print(d, opp)\n",
    "        elif d[0] == \"T\":\n",
    "            test = d.split('by')\n",
    "            test = test[-1].lstrip()\n",
    "            #print(d, test)\n",
    "        elif d[0] == \"I\":\n",
    "            d = d.split(' ')\n",
    "            if d[1] == 'true:':\n",
    "                tr = d[-1]\n",
    "                #print(d[1], tr)\n",
    "            else:\n",
    "                fa = d[-1]\n",
    "                #print(d[1], fa)\n",
    "\n",
    "\n",
    "# one round of monkey business\n",
    "for _ in range(10000):\n",
    "    for m in monkeys:\n",
    "        m.inspect()\n",
    "        thrown_items = m.testItems()\n",
    "        for i in thrown_items:\n",
    "            monkeys[i[0]].addItem(i[1])\n",
    "business = []\n",
    "for m in monkeys:\n",
    "    print(m.inspections)\n",
    "    business += [m.inspections]\n",
    "business.sort()\n",
    "print(business[-1]*business[-2])"
   ]
  },
  {
   "cell_type": "code",
   "execution_count": 15,
   "id": "c7487851",
   "metadata": {},
   "outputs": [
    {
     "data": {
      "text/plain": [
       "2"
      ]
     },
     "execution_count": 15,
     "metadata": {},
     "output_type": "execute_result"
    }
   ],
   "source": [
    "((4 % 3) * (5 % 3)) % 3"
   ]
  },
  {
   "cell_type": "code",
   "execution_count": 17,
   "id": "be0db083",
   "metadata": {},
   "outputs": [
    {
     "data": {
      "text/plain": [
       "2"
      ]
     },
     "execution_count": 17,
     "metadata": {},
     "output_type": "execute_result"
    }
   ],
   "source": [
    "# returns valid moves and bool = to hill climb True or False\n",
    "\n",
    "def up(data, x, y):\n",
    "    if y-1 < 0:\n",
    "        return None\n",
    "    if data[y][x] == 'z':\n",
    "        if (data[y-1][x] == 'E'):\n",
    "            return (-1,-1), True\n",
    "    else:\n",
    "        if ord(data[y][x]) == ord(data[y-1][x]):\n",
    "            return (x,y-1),False\n",
    "        elif ord(data[y][x]) + 1 == ord(data[y-1][x]):\n",
    "            return (x,y-1), True\n",
    "        else:\n",
    "            return None\n",
    "def down(data, x, y):\n",
    "    try:\n",
    "        if data[y][x] == 'z':\n",
    "            if data[y-1][x] == 'E':\n",
    "                return (-1,-1), True\n",
    "        if ord(data[y][x]) == ord(data[y+1][x]):\n",
    "            return (x,y+1),False\n",
    "        elif ord(data[y][x]) + 1 == ord(data[y+1][x]):\n",
    "            return (x,y+1), True\n",
    "        else:\n",
    "            return None\n",
    "    except IndexError:\n",
    "        return None\n",
    "def left(data, x, y):\n",
    "    if x-1 < 0:\n",
    "        return None\n",
    "    if data[y][x] == 'z':\n",
    "        if data[y-1][x] == 'E':\n",
    "            return (-1,-1), True\n",
    "    else:\n",
    "        if ord(data[y][x]):\n",
    "            return (x-1,y),False\n",
    "        elif ord(data[y][x]) + 1 == ord(data[y][x-1]):\n",
    "            return (x-1,y), True\n",
    "        else:\n",
    "            return None\n",
    "def right(data, x, y):\n",
    "    try:\n",
    "        if data[y][x] == 'z':\n",
    "            if data[y-1][x] == 'E':\n",
    "                return (-1,-1), True\n",
    "        if ord(data[y][x]) == ord(data[y][x+1]):\n",
    "            return (x+1,y),False\n",
    "        elif ord(data[y][x]) + 1 == ord(data[y][x+1]):\n",
    "            return (x+1,y), True\n",
    "        else:\n",
    "            return None\n",
    "    except IndexError:\n",
    "        return None"
   ]
  }
 ],
 "metadata": {
  "kernelspec": {
   "display_name": "base",
   "language": "python",
   "name": "python3"
  },
  "language_info": {
   "codemirror_mode": {
    "name": "ipython",
    "version": 3
   },
   "file_extension": ".py",
   "mimetype": "text/x-python",
   "name": "python",
   "nbconvert_exporter": "python",
   "pygments_lexer": "ipython3",
   "version": "3.8.15"
  },
  "vscode": {
   "interpreter": {
    "hash": "abea6a0ce74fe2ed5d76271aae31c635392e7ceb4fb21aaaaa57325876dc93f5"
   }
  }
 },
 "nbformat": 4,
 "nbformat_minor": 5
}
